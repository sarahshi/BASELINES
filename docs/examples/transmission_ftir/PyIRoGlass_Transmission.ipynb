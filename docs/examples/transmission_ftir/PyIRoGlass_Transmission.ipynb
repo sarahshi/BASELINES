{
 "cells": [
  {
   "cell_type": "markdown",
   "metadata": {},
   "source": [
    "# Transmission FTIR Spectra\n",
    "\n",
    "- This Jupyter notebook provides an example workflow for processing transmission FTIR spectra through PyIRoGlass. \n",
    "\n",
    "- The Jupyter notebook and data can be accessed here: https://github.com/SarahShi/PyIRoGlass/blob/main/docs/examples/transmission_ftir/. \n",
    "\n",
    "- You need to have the PyIRoGlass PyPi package on your machine once. If you have not done this, please uncomment (remove the #) symbol and run the cell below. "
   ]
  },
  {
   "cell_type": "code",
   "execution_count": 1,
   "metadata": {},
   "outputs": [],
   "source": [
    "#!pip install PyIRoGlass"
   ]
  },
  {
   "cell_type": "markdown",
   "metadata": {},
   "source": [
    "# Load Python Packages"
   ]
  },
  {
   "cell_type": "code",
   "execution_count": 2,
   "metadata": {
    "tags": []
   },
   "outputs": [],
   "source": [
    "# Import packages\n",
    "\n",
    "import os\n",
    "import sys\n",
    "import glob\n",
    "import numpy as np\n",
    "import pandas as pd\n",
    "import mc3\n",
    "\n",
    "import PyIRoGlass as pig\n",
    "\n",
    "import matplotlib\n",
    "from matplotlib import pyplot as plt\n",
    "from matplotlib import rc, cm\n",
    "\n",
    "from IPython.display import IFrame, display\n",
    "\n",
    "%matplotlib inline\n",
    "%config InlineBackend.figure_format = 'retina'"
   ]
  },
  {
   "cell_type": "markdown",
   "metadata": {},
   "source": [
    "# Set paths to data"
   ]
  },
  {
   "cell_type": "code",
   "execution_count": 3,
   "metadata": {
    "tags": []
   },
   "outputs": [
    {
     "name": "stdout",
     "output_type": "stream",
     "text": [
      "SPECTRA/\n",
      "ChemThick.csv\n"
     ]
    }
   ],
   "source": [
    "# Change paths to direct to folder with transmission FTIR spectra \n",
    "\n",
    "TRANS_PATHS = 'SPECTRA/'\n",
    "TRANS_FILES = sorted(glob.glob(TRANS_PATHS + \"*\"))\n",
    "print(TRANS_PATHS)\n",
    "\n",
    "CHEMTHICK_PATH = 'ChemThick.csv'\n",
    "print(CHEMTHICK_PATH)"
   ]
  },
  {
   "cell_type": "markdown",
   "metadata": {},
   "source": [
    "# Set desired output file directory name"
   ]
  },
  {
   "cell_type": "code",
   "execution_count": 4,
   "metadata": {
    "tags": []
   },
   "outputs": [
    {
     "name": "stdout",
     "output_type": "stream",
     "text": [
      "RESULTS\n"
     ]
    }
   ],
   "source": [
    "# Change to be what you want the prefix of your output files to be. \n",
    "OUTPUT_PATH = 'RESULTS'\n",
    "print(OUTPUT_PATH)"
   ]
  },
  {
   "cell_type": "markdown",
   "metadata": {},
   "source": [
    "# Load transmission FTIR spectra"
   ]
  },
  {
   "cell_type": "code",
   "execution_count": 5,
   "metadata": {
    "tags": []
   },
   "outputs": [],
   "source": [
    "# Load the path to transmission FTIR spectra\n",
    "\n",
    "DFS_FILES, DFS_DICT = pig.Load_SampleCSV(TRANS_FILES, wn_high = 5500, wn_low = 1000)"
   ]
  },
  {
   "cell_type": "markdown",
   "metadata": {},
   "source": [
    "Print the name of all files in the directory "
   ]
  },
  {
   "cell_type": "code",
   "execution_count": 6,
   "metadata": {
    "tags": []
   },
   "outputs": [
    {
     "data": {
      "text/plain": [
       "['AC4_OL49_021920_30x30_H2O_a',\n",
       " 'AC4_OL53_101220_256s_30x30_a',\n",
       " 'STD_D1010_012821_256s_100x100_a']"
      ]
     },
     "execution_count": 6,
     "metadata": {},
     "output_type": "execute_result"
    }
   ],
   "source": [
    "DFS_FILES"
   ]
  },
  {
   "attachments": {},
   "cell_type": "markdown",
   "metadata": {},
   "source": [
    "Let's look at what a dictionary of transmission FTIR spectra look like. Samples are identified by their file names and the wavenumber and absorbance data are stored for each spectrum. "
   ]
  },
  {
   "cell_type": "code",
   "execution_count": 7,
   "metadata": {
    "tags": []
   },
   "outputs": [
    {
     "data": {
      "text/plain": [
       "{'AC4_OL49_021920_30x30_H2O_a':             Absorbance\n",
       " Wavenumber            \n",
       " 1000.917      6.000000\n",
       " 1002.845      6.000000\n",
       " 1004.774      3.212358\n",
       " 1006.702      6.000000\n",
       " 1008.631      3.550053\n",
       " ...                ...\n",
       " 5490.577      0.658218\n",
       " 5492.505      0.657289\n",
       " 5494.434      0.657169\n",
       " 5496.362      0.658473\n",
       " 5498.291      0.660256\n",
       " \n",
       " [2333 rows x 1 columns],\n",
       " 'AC4_OL53_101220_256s_30x30_a':             Absorbance\n",
       " Wavenumber            \n",
       " 1000.916      6.000000\n",
       " 1002.845      2.809911\n",
       " 1004.774      2.584419\n",
       " 1006.702      2.808356\n",
       " 1008.631      3.712419\n",
       " ...                ...\n",
       " 5490.576      0.118337\n",
       " 5492.505      0.117460\n",
       " 5494.433      0.117553\n",
       " 5496.362      0.117506\n",
       " 5498.291      0.116924\n",
       " \n",
       " [2333 rows x 1 columns],\n",
       " 'STD_D1010_012821_256s_100x100_a':             Absorbance\n",
       " Wavenumber            \n",
       " 1000.916      3.844739\n",
       " 1002.845      3.630789\n",
       " 1004.774      6.000000\n",
       " 1006.702      6.000000\n",
       " 1008.631      6.000000\n",
       " ...                ...\n",
       " 5490.576      0.394656\n",
       " 5492.505      0.395436\n",
       " 5494.433      0.396272\n",
       " 5496.362      0.396495\n",
       " 5498.291      0.396368\n",
       " \n",
       " [2333 rows x 1 columns]}"
      ]
     },
     "execution_count": 7,
     "metadata": {},
     "output_type": "execute_result"
    }
   ],
   "source": [
    "DFS_DICT"
   ]
  },
  {
   "cell_type": "markdown",
   "metadata": {},
   "source": [
    "# Load composition and thickness data\n",
    "\n",
    "The file names from the spectra (what comes before the .CSV) are important when we load in melt compositions and thicknesses. Unique identifiers identify the same samples. Make sure that this ChemThick.CSV file has the same sample names as the spectra you load in. "
   ]
  },
  {
   "cell_type": "code",
   "execution_count": 8,
   "metadata": {
    "tags": []
   },
   "outputs": [],
   "source": [
    "MICOMP, THICKNESS = pig.Load_ChemistryThickness(CHEMTHICK_PATH)"
   ]
  },
  {
   "cell_type": "markdown",
   "metadata": {},
   "source": [
    "Display the dataframe of glass compositions"
   ]
  },
  {
   "cell_type": "code",
   "execution_count": 9,
   "metadata": {
    "tags": []
   },
   "outputs": [
    {
     "data": {
      "text/html": [
       "<div>\n",
       "<style scoped>\n",
       "    .dataframe tbody tr th:only-of-type {\n",
       "        vertical-align: middle;\n",
       "    }\n",
       "\n",
       "    .dataframe tbody tr th {\n",
       "        vertical-align: top;\n",
       "    }\n",
       "\n",
       "    .dataframe thead th {\n",
       "        text-align: right;\n",
       "    }\n",
       "</style>\n",
       "<table border=\"1\" class=\"dataframe\">\n",
       "  <thead>\n",
       "    <tr style=\"text-align: right;\">\n",
       "      <th></th>\n",
       "      <th>SiO2</th>\n",
       "      <th>TiO2</th>\n",
       "      <th>Al2O3</th>\n",
       "      <th>Fe2O3</th>\n",
       "      <th>FeO</th>\n",
       "      <th>MnO</th>\n",
       "      <th>MgO</th>\n",
       "      <th>CaO</th>\n",
       "      <th>Na2O</th>\n",
       "      <th>K2O</th>\n",
       "      <th>P2O5</th>\n",
       "    </tr>\n",
       "    <tr>\n",
       "      <th>Sample</th>\n",
       "      <th></th>\n",
       "      <th></th>\n",
       "      <th></th>\n",
       "      <th></th>\n",
       "      <th></th>\n",
       "      <th></th>\n",
       "      <th></th>\n",
       "      <th></th>\n",
       "      <th></th>\n",
       "      <th></th>\n",
       "      <th></th>\n",
       "    </tr>\n",
       "  </thead>\n",
       "  <tbody>\n",
       "    <tr>\n",
       "      <th>AC4_OL49_021920_30x30_H2O_a</th>\n",
       "      <td>52.34</td>\n",
       "      <td>1.04</td>\n",
       "      <td>17.92</td>\n",
       "      <td>1.93</td>\n",
       "      <td>7.03</td>\n",
       "      <td>0.20</td>\n",
       "      <td>3.63</td>\n",
       "      <td>7.72</td>\n",
       "      <td>4.25</td>\n",
       "      <td>0.78</td>\n",
       "      <td>0.14</td>\n",
       "    </tr>\n",
       "    <tr>\n",
       "      <th>AC4_OL53_101220_256s_30x30_a</th>\n",
       "      <td>47.95</td>\n",
       "      <td>1.00</td>\n",
       "      <td>18.88</td>\n",
       "      <td>2.04</td>\n",
       "      <td>7.45</td>\n",
       "      <td>0.19</td>\n",
       "      <td>4.34</td>\n",
       "      <td>9.84</td>\n",
       "      <td>3.47</td>\n",
       "      <td>0.67</td>\n",
       "      <td>0.11</td>\n",
       "    </tr>\n",
       "    <tr>\n",
       "      <th>STD_D1010_012821_256s_100x100_a</th>\n",
       "      <td>51.41</td>\n",
       "      <td>1.26</td>\n",
       "      <td>16.58</td>\n",
       "      <td>0.00</td>\n",
       "      <td>7.58</td>\n",
       "      <td>0.00</td>\n",
       "      <td>7.57</td>\n",
       "      <td>10.98</td>\n",
       "      <td>3.01</td>\n",
       "      <td>0.37</td>\n",
       "      <td>0.18</td>\n",
       "    </tr>\n",
       "  </tbody>\n",
       "</table>\n",
       "</div>"
      ],
      "text/plain": [
       "                                  SiO2  TiO2  Al2O3  Fe2O3   FeO   MnO   MgO  \\\n",
       "Sample                                                                         \n",
       "AC4_OL49_021920_30x30_H2O_a      52.34  1.04  17.92   1.93  7.03  0.20  3.63   \n",
       "AC4_OL53_101220_256s_30x30_a     47.95  1.00  18.88   2.04  7.45  0.19  4.34   \n",
       "STD_D1010_012821_256s_100x100_a  51.41  1.26  16.58   0.00  7.58  0.00  7.57   \n",
       "\n",
       "                                   CaO  Na2O   K2O  P2O5  \n",
       "Sample                                                    \n",
       "AC4_OL49_021920_30x30_H2O_a       7.72  4.25  0.78  0.14  \n",
       "AC4_OL53_101220_256s_30x30_a      9.84  3.47  0.67  0.11  \n",
       "STD_D1010_012821_256s_100x100_a  10.98  3.01  0.37  0.18  "
      ]
     },
     "execution_count": 9,
     "metadata": {},
     "output_type": "execute_result"
    }
   ],
   "source": [
    "MICOMP"
   ]
  },
  {
   "cell_type": "markdown",
   "metadata": {},
   "source": [
    "Display the dataframe of wafer thicknesses"
   ]
  },
  {
   "cell_type": "code",
   "execution_count": 10,
   "metadata": {
    "tags": []
   },
   "outputs": [
    {
     "data": {
      "text/html": [
       "<div>\n",
       "<style scoped>\n",
       "    .dataframe tbody tr th:only-of-type {\n",
       "        vertical-align: middle;\n",
       "    }\n",
       "\n",
       "    .dataframe tbody tr th {\n",
       "        vertical-align: top;\n",
       "    }\n",
       "\n",
       "    .dataframe thead th {\n",
       "        text-align: right;\n",
       "    }\n",
       "</style>\n",
       "<table border=\"1\" class=\"dataframe\">\n",
       "  <thead>\n",
       "    <tr style=\"text-align: right;\">\n",
       "      <th></th>\n",
       "      <th>Thickness</th>\n",
       "      <th>Sigma_Thickness</th>\n",
       "    </tr>\n",
       "    <tr>\n",
       "      <th>Sample</th>\n",
       "      <th></th>\n",
       "      <th></th>\n",
       "    </tr>\n",
       "  </thead>\n",
       "  <tbody>\n",
       "    <tr>\n",
       "      <th>AC4_OL49_021920_30x30_H2O_a</th>\n",
       "      <td>91.25</td>\n",
       "      <td>3</td>\n",
       "    </tr>\n",
       "    <tr>\n",
       "      <th>AC4_OL53_101220_256s_30x30_a</th>\n",
       "      <td>39.00</td>\n",
       "      <td>3</td>\n",
       "    </tr>\n",
       "    <tr>\n",
       "      <th>STD_D1010_012821_256s_100x100_a</th>\n",
       "      <td>231.00</td>\n",
       "      <td>3</td>\n",
       "    </tr>\n",
       "  </tbody>\n",
       "</table>\n",
       "</div>"
      ],
      "text/plain": [
       "                                 Thickness  Sigma_Thickness\n",
       "Sample                                                     \n",
       "AC4_OL49_021920_30x30_H2O_a          91.25                3\n",
       "AC4_OL53_101220_256s_30x30_a         39.00                3\n",
       "STD_D1010_012821_256s_100x100_a     231.00                3"
      ]
     },
     "execution_count": 10,
     "metadata": {},
     "output_type": "execute_result"
    }
   ],
   "source": [
    "THICKNESS"
   ]
  },
  {
   "cell_type": "markdown",
   "metadata": {},
   "source": [
    "See that the sample names of the spectra in the dictionary, glass compositions and thicknesses in the dataframe all align. "
   ]
  },
  {
   "cell_type": "markdown",
   "metadata": {},
   "source": [
    "# We're ready to get rolling -- MCMC for peaks and baselines, here we come! \n",
    "\n",
    "We use the function Run_All_Spectra, which takes in two arguments: \n",
    "\n",
    "- Dictionary of spectra\n",
    "- Desired output directory name, or `None` to prevent figure generation. \n",
    "\n",
    "Running this code will take a few minutes per spectra, as it is fitting $\\mathrm{10^6}$ baselines and peaks to your spectrum to sample uncertainty. If any samples fail, they will be returned in the list FAILURES. \n",
    "\n",
    "Save this file as a CSV, so you have this information. We will also use this dataframe to calculate concentration. "
   ]
  },
  {
   "cell_type": "code",
   "execution_count": 11,
   "metadata": {
    "tags": []
   },
   "outputs": [
    {
     "name": "stdout",
     "output_type": "stream",
     "text": [
      "\n",
      "::::::::::::::::::::::::::::::::::::::::::::::::::::::::::::::::::::::\n",
      "  Multi-core Markov-chain Monte Carlo (mc3).\n",
      "  Version 3.0.13.\n",
      "  Copyright (c) 2015-2023 Patricio Cubillos and collaborators.\n",
      "  mc3 is open-source software under the MIT license (see LICENSE).\n",
      "::::::::::::::::::::::::::::::::::::::::::::::::::::::::::::::::::::::\n",
      "\n",
      "Least-squares best-fitting parameters:\n",
      "  [ 1.58502146e+00 -1.99460276e-02  7.11353137e-01 -2.29083498e-01\n",
      " -9.98243020e-03  1.42813013e+03  3.00187471e+01  1.08494749e-01\n",
      "  1.51787931e+03  3.48462160e+01  1.10622210e-01  6.73443336e-01\n",
      "  3.59489286e-02  9.49624186e-02  1.25731801e-04  1.25690729e+00]\n",
      "\n",
      "Yippee Ki Yay Monte Carlo!\n",
      "Start MCMC chains  (Fri Mar 24 23:53:32 2023)\n",
      "\n",
      "[:         ]  10.0% completed  (Fri Mar 24 23:53:38 2023)\n",
      "Out-of-bound Trials:\n",
      "[   3  454  216 1320   48  334  212    0  252 2847    0    0    2    2\n",
      "    0    0]\n",
      "Best Parameters: (chisq=133.1451)\n",
      "[ 1.58502146e+00 -1.99460276e-02  7.11353137e-01 -2.29083498e-01\n",
      " -9.98243020e-03  1.42813013e+03  3.00187471e+01  1.08494749e-01\n",
      "  1.51787931e+03  3.48462160e+01  1.10622210e-01  6.73443336e-01\n",
      "  3.59489286e-02  9.49624186e-02  1.25731801e-04  1.25690729e+00]\n",
      "Gelman-Rubin statistics for free parameters:\n",
      "[1.00163417 1.00261224 1.00295893 1.00317119 1.00201216 1.00491061\n",
      " 1.00676262 1.0057833  1.01052195 1.00608351 1.00467367 1.00088367\n",
      " 1.00275779 1.00631754 1.00225263 1.00289718]\n",
      "\n",
      "[::        ]  20.0% completed  (Fri Mar 24 23:53:44 2023)\n",
      "Out-of-bound Trials:\n",
      "[   5 1171  429 3661   98  354  311    0  260 6034    1    0    3    2\n",
      "    0    0]\n",
      "Best Parameters: (chisq=133.1451)\n",
      "[ 1.58502146e+00 -1.99460276e-02  7.11353137e-01 -2.29083498e-01\n",
      " -9.98243020e-03  1.42813013e+03  3.00187471e+01  1.08494749e-01\n",
      "  1.51787931e+03  3.48462160e+01  1.10622210e-01  6.73443336e-01\n",
      "  3.59489286e-02  9.49624186e-02  1.25731801e-04  1.25690729e+00]\n",
      "Gelman-Rubin statistics for free parameters:\n",
      "[1.00078666 1.00116687 1.00264351 1.00141236 1.00096424 1.00192982\n",
      " 1.00057783 1.00124121 1.00169301 1.00217841 1.00148876 1.00234819\n",
      " 1.00172492 1.00208109 1.00104753 1.00139697]\n",
      "All parameters converged to within 1% of unity.\n",
      "\n",
      "[:::       ]  30.0% completed  (Fri Mar 24 23:53:50 2023)\n",
      "Out-of-bound Trials:\n",
      "[   5 1869  582 5922  143  360  402    0  261 9416    1    0    3    2\n",
      "    0    0]\n",
      "Best Parameters: (chisq=133.1451)\n",
      "[ 1.58502146e+00 -1.99460276e-02  7.11353137e-01 -2.29083498e-01\n",
      " -9.98243020e-03  1.42813013e+03  3.00187471e+01  1.08494749e-01\n",
      "  1.51787931e+03  3.48462160e+01  1.10622210e-01  6.73443336e-01\n",
      "  3.59489286e-02  9.49624186e-02  1.25731801e-04  1.25690729e+00]\n",
      "Gelman-Rubin statistics for free parameters:\n",
      "[1.00132326 1.0017094  1.00277333 1.00180959 1.00130226 1.00187131\n",
      " 1.00006855 1.00090606 1.00120769 1.00126574 1.00118882 1.00193123\n",
      " 1.00115034 1.00056717 1.00161776 1.00188683]\n",
      "All parameters converged to within 1% of unity.\n",
      "\n",
      "[::::      ]  40.0% completed  (Fri Mar 24 23:53:56 2023)\n",
      "Out-of-bound Trials:\n",
      "[    5  2611   774  8330   202   371   508     1   262 12610     2     0\n",
      "     4     2     0     0]\n",
      "Best Parameters: (chisq=133.1451)\n",
      "[ 1.58502146e+00 -1.99460276e-02  7.11353137e-01 -2.29083498e-01\n",
      " -9.98243020e-03  1.42813013e+03  3.00187471e+01  1.08494749e-01\n",
      "  1.51787931e+03  3.48462160e+01  1.10622210e-01  6.73443336e-01\n",
      "  3.59489286e-02  9.49624186e-02  1.25731801e-04  1.25690729e+00]\n",
      "Gelman-Rubin statistics for free parameters:\n",
      "[1.00103275 1.0011643  1.00203669 1.00110302 1.00106874 1.00129793\n",
      " 1.00029837 1.00036915 1.00082272 1.00099379 1.00063938 1.00149038\n",
      " 1.00091414 1.00090554 1.0011543  1.00123662]\n",
      "All parameters converged to within 1% of unity.\n",
      "\n",
      "[:::::     ]  50.0% completed  (Fri Mar 24 23:54:04 2023)\n",
      "Out-of-bound Trials:\n",
      "[    5  3382   985 10712   255   379   621     3   263 15911     3     0\n",
      "     5     2     0     0]\n",
      "Best Parameters: (chisq=133.1451)\n",
      "[ 1.58502146e+00 -1.99460276e-02  7.11353137e-01 -2.29083498e-01\n",
      " -9.98243020e-03  1.42813013e+03  3.00187471e+01  1.08494749e-01\n",
      "  1.51787931e+03  3.48462160e+01  1.10622210e-01  6.73443336e-01\n",
      "  3.59489286e-02  9.49624186e-02  1.25731801e-04  1.25690729e+00]\n",
      "Gelman-Rubin statistics for free parameters:\n",
      "[1.00088568 1.0010123  1.001843   1.00090844 1.00101564 1.00105396\n",
      " 1.00037894 1.0003357  1.0008054  1.00087781 1.00033245 1.00100314\n",
      " 1.0005842  1.0007261  1.00101548 1.00106212]\n",
      "All parameters converged to within 1% of unity.\n",
      "\n",
      "[::::::    ]  60.0% completed  (Fri Mar 24 23:54:10 2023)\n",
      "Out-of-bound Trials:\n",
      "[    5  4113  1172 13289   303   382   718     3   263 19291     3     0\n",
      "     6     2     0     0]\n",
      "Best Parameters: (chisq=133.1451)\n",
      "[ 1.58502146e+00 -1.99460276e-02  7.11353137e-01 -2.29083498e-01\n",
      " -9.98243020e-03  1.42813013e+03  3.00187471e+01  1.08494749e-01\n",
      "  1.51787931e+03  3.48462160e+01  1.10622210e-01  6.73443336e-01\n",
      "  3.59489286e-02  9.49624186e-02  1.25731801e-04  1.25690729e+00]\n",
      "Gelman-Rubin statistics for free parameters:\n",
      "[1.00115122 1.00117791 1.00185328 1.0010117  1.00132941 1.00067211\n",
      " 1.00015937 1.0001615  1.00035881 1.0006596  1.00023098 1.00115587\n",
      " 1.00044937 1.00055652 1.00121317 1.00118748]\n",
      "All parameters converged to within 1% of unity.\n",
      "\n",
      "All parameters satisfy the GR convergence threshold of 1.01, stopping\n",
      "the MCMC.\n",
      "\n",
      "MCMC Summary:\n",
      "-------------\n",
      "  Number of evaluated samples:        600930\n",
      "  Number of parallel chains:               9\n",
      "  Average iterations per chain:        66770\n",
      "  Burned-in iterations per chain:       5000\n",
      "  Thinning factor:                         5\n",
      "  MCMC sample size (thinned, burned): 111186\n",
      "  Acceptance rate:   23.86%\n",
      "\n",
      "Param name     Best fit   Lo HPD CR   Hi HPD CR        Mean    Std dev       S/N\n",
      "----------- ----------------------------------- ---------------------- ---------\n",
      "Avg_BL       1.5850e+00 -1.5078e-01  1.4992e-01  1.5892e+00 1.4786e-01      10.7\n",
      "PCA1        -1.9946e-02 -1.7462e+00  1.7517e+00  4.8657e-02 1.7132e+00       0.0\n",
      "PCA2         7.1135e-01 -5.9935e-02  6.8011e-02  7.1609e-01 6.3496e-02      11.2\n",
      "PCA3        -2.2908e-01 -2.3038e-01  2.3554e-01 -2.2020e-01 2.2811e-01       1.0\n",
      "PCA4        -9.9824e-03 -1.1747e-01  1.1563e-01 -1.2428e-02 1.1529e-01       0.1\n",
      "peak_G1430   1.4281e+03 -1.8811e+00  1.5203e+00  1.4280e+03 1.6811e+00     849.5\n",
      "std_G1430    3.0019e+01 -1.5909e+00  1.4936e+00  3.0111e+01 1.5428e+00      19.5\n",
      "G1430_ampli  1.0849e-01 -5.8526e-03  4.7040e-03  1.0809e-01 5.2453e-03      20.7\n",
      "peak_G1515   1.5179e+03 -1.5203e+00  1.6764e+00  1.5180e+03 1.6026e+00     947.1\n",
      "std_G1515    3.4846e+01 -2.0502e+00  2.4929e+00  3.5222e+01 2.1577e+00      16.1\n",
      "G1515_ampli  1.1062e-01 -4.8652e-03  4.2787e-03  1.1031e-01 4.5791e-03      24.2\n",
      "Average_163  6.7344e-01 -3.8493e-03  3.4253e-03  6.7324e-01 3.6441e-03     184.8\n",
      "1635PeakPCA  3.5949e-02 -1.8338e-02  2.2099e-02  3.7970e-02 2.0137e-02       1.8\n",
      "1635PeakPCA  9.4962e-02 -2.5468e-02  1.9415e-02  9.1315e-02 2.2168e-02       4.3\n",
      "m            1.2573e-04 -2.9278e-04  2.9611e-04  1.3697e-04 2.8876e-04       0.4\n",
      "b            1.2569e+00 -9.4044e-02  9.2453e-02  1.2529e+00 9.1123e-02      13.8\n",
      "\n",
      "  Best-parameter's chi-squared:       133.1451\n",
      "  Best-parameter's -2*log(posterior): 133.1451\n",
      "  Bayesian Information Criterion:     231.8923\n",
      "  Reduced chi-squared:                  0.2876\n",
      "  Standard deviation of residuals:  0.00527224\n",
      "\n",
      "Output sampler files:\n",
      "  '/Users/sarahcshi/Documents/GitHub/PyIRoGlass/docs/examples/transmission_ftir/NPZFILES/RESULTS/AC4_OL49_021920_30x30_H2O_a.npz'\n",
      "  '/Users/sarahcshi/Documents/GitHub/PyIRoGlass/docs/examples/transmission_ftir/LOGFILES/RESULTS/AC4_OL49_021920_30x30_H2O_a.log'\n",
      "\n",
      "::::::::::::::::::::::::::::::::::::::::::::::::::::::::::::::::::::::\n",
      "  Multi-core Markov-chain Monte Carlo (mc3).\n",
      "  Version 3.0.13.\n",
      "  Copyright (c) 2015-2023 Patricio Cubillos and collaborators.\n",
      "  mc3 is open-source software under the MIT license (see LICENSE).\n",
      "::::::::::::::::::::::::::::::::::::::::::::::::::::::::::::::::::::::\n",
      "\n",
      "Least-squares best-fitting parameters:\n",
      "  [ 8.28098336e-01  1.06344120e+00  4.85556720e-01 -2.18045778e-02\n",
      " -9.61435909e-03  1.42496040e+03  4.00000000e+01  5.62942310e-02\n",
      "  1.52225802e+03  3.41468977e+01  5.28873966e-02  2.95488952e-01\n",
      " -2.52542896e-02  2.94120076e-02  2.57013594e-04  4.92059640e-01]\n",
      "\n",
      "Yippee Ki Yay Monte Carlo!\n",
      "Start MCMC chains  (Fri Mar 24 23:54:32 2023)\n",
      "\n",
      "[:         ]  10.0% completed  (Fri Mar 24 23:54:38 2023)\n",
      "Out-of-bound Trials:\n",
      "[   42   277    36   580    48  1682 10019    20   611  8736    13     0\n",
      "     1     1     0     0]\n",
      "Best Parameters: (chisq=24.3410)\n",
      "[ 8.28098336e-01  1.06344120e+00  4.85556720e-01 -2.18045778e-02\n",
      " -9.61435909e-03  1.42496040e+03  4.00000000e+01  5.62942310e-02\n",
      "  1.52225802e+03  3.41468977e+01  5.28873966e-02  2.95488952e-01\n",
      " -2.52542896e-02  2.94120076e-02  2.57013594e-04  4.92059640e-01]\n",
      "Gelman-Rubin statistics for free parameters:\n",
      "[1.00800072 1.00739713 1.00553467 1.00688617 1.00671258 1.00470653\n",
      " 1.00912394 1.00476563 1.00636692 1.00567837 1.00389956 1.00759889\n",
      " 1.00115457 1.00183996 1.00775115 1.00735483]\n",
      "All parameters converged to within 1% of unity.\n",
      "\n",
      "[::        ]  20.0% completed  (Fri Mar 24 23:54:45 2023)\n",
      "Out-of-bound Trials:\n",
      "[   96   844    66  1863   103  2721 20186    45   773 16980    24     0\n",
      "     1     1     0     0]\n",
      "Best Parameters: (chisq=24.3410)\n",
      "[ 8.28098336e-01  1.06344120e+00  4.85556720e-01 -2.18045778e-02\n",
      " -9.61435909e-03  1.42496040e+03  4.00000000e+01  5.62942310e-02\n",
      "  1.52225802e+03  3.41468977e+01  5.28873966e-02  2.95488952e-01\n",
      " -2.52542896e-02  2.94120076e-02  2.57013594e-04  4.92059640e-01]\n",
      "Gelman-Rubin statistics for free parameters:\n",
      "[1.00317782 1.00240245 1.00095299 1.00237423 1.0028204  1.00137712\n",
      " 1.00218648 1.00310068 1.00189817 1.00269412 1.00157942 1.00242373\n",
      " 1.00168822 1.00115454 1.00260954 1.00224754]\n",
      "All parameters converged to within 1% of unity.\n",
      "\n",
      "[:::       ]  30.0% completed  (Fri Mar 24 23:54:53 2023)\n",
      "Out-of-bound Trials:\n",
      "[  156  1447    77  3208   156  3635 31025    54   944 25715    31     0\n",
      "     1     1     0     0]\n",
      "Best Parameters: (chisq=24.3410)\n",
      "[ 8.28098336e-01  1.06344120e+00  4.85556720e-01 -2.18045778e-02\n",
      " -9.61435909e-03  1.42496040e+03  4.00000000e+01  5.62942310e-02\n",
      "  1.52225802e+03  3.41468977e+01  5.28873966e-02  2.95488952e-01\n",
      " -2.52542896e-02  2.94120076e-02  2.57013594e-04  4.92059640e-01]\n",
      "Gelman-Rubin statistics for free parameters:\n",
      "[1.00127017 1.00108915 1.00098733 1.00110774 1.00100926 1.00111884\n",
      " 1.00106773 1.00210206 1.00132637 1.00169142 1.00173882 1.00117167\n",
      " 1.00073384 1.00078144 1.00112722 1.00107047]\n",
      "All parameters converged to within 1% of unity.\n",
      "\n",
      "[::::      ]  40.0% completed  (Fri Mar 24 23:55:00 2023)\n",
      "Out-of-bound Trials:\n",
      "[  210  2040   100  4507   221  4507 41299    66  1078 34617    38     0\n",
      "     2     1     0     0]\n",
      "Best Parameters: (chisq=24.3410)\n",
      "[ 8.28098336e-01  1.06344120e+00  4.85556720e-01 -2.18045778e-02\n",
      " -9.61435909e-03  1.42496040e+03  4.00000000e+01  5.62942310e-02\n",
      "  1.52225802e+03  3.41468977e+01  5.28873966e-02  2.95488952e-01\n",
      " -2.52542896e-02  2.94120076e-02  2.57013594e-04  4.92059640e-01]\n",
      "Gelman-Rubin statistics for free parameters:\n",
      "[1.00118943 1.00104714 1.00081485 1.00106256 1.00094942 1.00137739\n",
      " 1.00055267 1.00194935 1.00094917 1.00077534 1.0017755  1.00096246\n",
      " 1.00048906 1.00084538 1.0010745  1.00102796]\n",
      "All parameters converged to within 1% of unity.\n",
      "\n",
      "[:::::     ]  50.0% completed  (Fri Mar 24 23:55:06 2023)\n",
      "Out-of-bound Trials:\n",
      "[  266  2745   123  5988   284  5464 52318    82  1195 43200    52     0\n",
      "     2     1     0     0]\n",
      "Best Parameters: (chisq=24.3410)\n",
      "[ 8.28098336e-01  1.06344120e+00  4.85556720e-01 -2.18045778e-02\n",
      " -9.61435909e-03  1.42496040e+03  4.00000000e+01  5.62942310e-02\n",
      "  1.52225802e+03  3.41468977e+01  5.28873966e-02  2.95488952e-01\n",
      " -2.52542896e-02  2.94120076e-02  2.57013594e-04  4.92059640e-01]\n",
      "Gelman-Rubin statistics for free parameters:\n",
      "[1.00048897 1.00039892 1.00087373 1.00040089 1.00042472 1.00066661\n",
      " 1.00053704 1.0012794  1.00040103 1.00033763 1.00121457 1.00082138\n",
      " 1.00068006 1.0003092  1.00044116 1.00040688]\n",
      "All parameters converged to within 1% of unity.\n",
      "\n",
      "[::::::    ]  60.0% completed  (Fri Mar 24 23:55:12 2023)\n",
      "Out-of-bound Trials:\n",
      "[  342  3389   146  7372   355  6438 62717    99  1358 52143    65     0\n",
      "     2     1     0     0]\n",
      "Best Parameters: (chisq=24.3410)\n",
      "[ 8.28098336e-01  1.06344120e+00  4.85556720e-01 -2.18045778e-02\n",
      " -9.61435909e-03  1.42496040e+03  4.00000000e+01  5.62942310e-02\n",
      "  1.52225802e+03  3.41468977e+01  5.28873966e-02  2.95488952e-01\n",
      " -2.52542896e-02  2.94120076e-02  2.57013594e-04  4.92059640e-01]\n",
      "Gelman-Rubin statistics for free parameters:\n",
      "[1.0005456  1.00043188 1.00055439 1.00041368 1.00058881 1.00085154\n",
      " 1.00062406 1.00131942 1.00030825 1.00031526 1.00112983 1.00044611\n",
      " 1.00054263 1.00047344 1.00046874 1.00040693]\n",
      "All parameters converged to within 1% of unity.\n",
      "\n",
      "All parameters satisfy the GR convergence threshold of 1.01, stopping\n",
      "the MCMC.\n",
      "\n",
      "MCMC Summary:\n",
      "-------------\n",
      "  Number of evaluated samples:        600930\n",
      "  Number of parallel chains:               9\n",
      "  Average iterations per chain:        66770\n",
      "  Burned-in iterations per chain:       5000\n",
      "  Thinning factor:                         5\n",
      "  MCMC sample size (thinned, burned): 111186\n",
      "  Acceptance rate:   21.45%\n",
      "\n",
      "Param name     Best fit   Lo HPD CR   Hi HPD CR        Mean    Std dev       S/N\n",
      "----------- ----------------------------------- ---------------------- ---------\n",
      "Avg_BL       8.2810e-01 -1.7722e-01  1.2214e-01  7.9692e-01 1.4887e-01       5.6\n",
      "PCA1         1.0634e+00 -2.1719e+00  1.3175e+00  5.8684e-01 1.7301e+00       0.6\n",
      "PCA2         4.8556e-01 -7.1822e-02  5.6108e-02  4.7660e-01 6.3839e-02       7.6\n",
      "PCA3        -2.1805e-02 -3.1509e-01  1.5444e-01 -1.0604e-01 2.3282e-01       0.1\n",
      "PCA4        -9.6144e-03 -1.2318e-01  1.0985e-01 -1.5591e-02 1.1583e-01       0.1\n",
      "peak_G1430   1.4250e+03 -4.2661e+00  2.3976e+00  1.4243e+03 3.3133e+00     430.1\n",
      "std_G1430    4.0000e+01 -4.8643e+00 -8.0574e-02  3.6254e+01 2.7508e+00      14.5\n",
      "G1430_ampli  5.6294e-02 -1.1539e-02  1.1039e-03  5.1228e-02 6.2562e-03       9.0\n",
      "peak_G1515   1.5223e+03 -4.7256e+00  1.5057e+00  1.5207e+03 3.1709e+00     480.1\n",
      "std_G1515    3.4147e+01 -6.2480e-01  5.5415e+00  3.5224e+01 3.0983e+00      11.0\n",
      "G1515_ampli  5.2887e-02 -7.6104e-03  2.7272e-03  5.0524e-02 5.1508e-03      10.3\n",
      "Average_163  2.9549e-01 -3.7362e-03  3.6060e-03  2.9539e-01 3.6731e-03      80.4\n",
      "1635PeakPCA -2.5254e-02 -2.0101e-02  1.9987e-02 -2.5474e-02 1.9920e-02       1.3\n",
      "1635PeakPCA  2.9412e-02 -2.6503e-02  1.3566e-02  2.2804e-02 1.9845e-02       1.5\n",
      "m            2.5701e-04 -3.6214e-04  2.2493e-04  1.8007e-04 2.9168e-04       0.9\n",
      "b            4.9206e-01 -6.6776e-02  1.1988e-01  5.2095e-01 9.2445e-02       5.3\n",
      "\n",
      "  Best-parameter's chi-squared:        24.3410\n",
      "  Best-parameter's -2*log(posterior):  24.3410\n",
      "  Bayesian Information Criterion:     123.0882\n",
      "  Reduced chi-squared:                  0.0526\n",
      "  Standard deviation of residuals:  0.00225425\n",
      "\n",
      "Output sampler files:\n",
      "  '/Users/sarahcshi/Documents/GitHub/PyIRoGlass/docs/examples/transmission_ftir/NPZFILES/RESULTS/AC4_OL53_101220_256s_30x30_a.npz'\n",
      "  '/Users/sarahcshi/Documents/GitHub/PyIRoGlass/docs/examples/transmission_ftir/LOGFILES/RESULTS/AC4_OL53_101220_256s_30x30_a.log'\n",
      "\n",
      "::::::::::::::::::::::::::::::::::::::::::::::::::::::::::::::::::::::\n",
      "  Multi-core Markov-chain Monte Carlo (mc3).\n",
      "  Version 3.0.13.\n",
      "  Copyright (c) 2015-2023 Patricio Cubillos and collaborators.\n",
      "  mc3 is open-source software under the MIT license (see LICENSE).\n",
      "::::::::::::::::::::::::::::::::::::::::::::::::::::::::::::::::::::::\n",
      "\n",
      "Least-squares best-fitting parameters:\n",
      "  [ 4.10808095e+00  2.95431598e+00 -8.47477238e-01  3.16663878e-01\n",
      "  2.96569205e-01  1.43205548e+03  3.53232111e+01  9.31237633e-02\n",
      "  1.52327230e+03  3.55755602e+01  1.09846704e-01  1.85446413e-01\n",
      " -6.02296571e-03  3.90349012e-02 -4.04383528e-05  2.34042876e+00]\n",
      "\n",
      "Yippee Ki Yay Monte Carlo!\n",
      "Start MCMC chains  (Fri Mar 24 23:55:34 2023)\n",
      "\n",
      "[:         ]  10.0% completed  (Fri Mar 24 23:55:41 2023)\n",
      "Out-of-bound Trials:\n",
      "[  19  193 1285 1033  115  373 4983    3  418 5145    2    1    1    3\n",
      "    0    3]\n",
      "Best Parameters: (chisq=27.5368)\n",
      "[ 4.10808095e+00  2.95431598e+00 -8.47477238e-01  3.16663878e-01\n",
      "  2.96569205e-01  1.43205548e+03  3.53232111e+01  9.31237633e-02\n",
      "  1.52327230e+03  3.55755602e+01  1.09846704e-01  1.85446413e-01\n",
      " -6.02296571e-03  3.90349012e-02 -4.04383528e-05  2.34042876e+00]\n",
      "Gelman-Rubin statistics for free parameters:\n",
      "[1.01315049 1.01203732 1.00327802 1.01212028 1.01279031 1.00890691\n",
      " 1.00745426 1.00615268 1.01001974 1.00759769 1.01506706 1.00695083\n",
      " 1.00823389 1.00870005 1.01193668 1.01095626]\n",
      "\n",
      "[::        ]  20.0% completed  (Fri Mar 24 23:55:48 2023)\n",
      "Out-of-bound Trials:\n",
      "[   47   655  3408  3922   371   472 10425     4   492 11226     2     1\n",
      "     1     3     0    10]\n",
      "Best Parameters: (chisq=27.5368)\n",
      "[ 4.10808095e+00  2.95431598e+00 -8.47477238e-01  3.16663878e-01\n",
      "  2.96569205e-01  1.43205548e+03  3.53232111e+01  9.31237633e-02\n",
      "  1.52327230e+03  3.55755602e+01  1.09846704e-01  1.85446413e-01\n",
      " -6.02296571e-03  3.90349012e-02 -4.04383528e-05  2.34042876e+00]\n",
      "Gelman-Rubin statistics for free parameters:\n",
      "[1.00430079 1.00253971 1.00205254 1.00167362 1.00632209 1.00066045\n",
      " 1.00324067 1.00142025 1.00177196 1.00089622 1.00115384 1.00387538\n",
      " 1.00276895 1.00253206 1.00296005 1.00193161]\n",
      "All parameters converged to within 1% of unity.\n",
      "\n",
      "[:::       ]  30.0% completed  (Fri Mar 24 23:55:54 2023)\n",
      "Out-of-bound Trials:\n",
      "[   78  1177  5554  7276   633   551 15826     7   559 17139     3     2\n",
      "     3     6     0    22]\n",
      "Best Parameters: (chisq=27.5368)\n",
      "[ 4.10808095e+00  2.95431598e+00 -8.47477238e-01  3.16663878e-01\n",
      "  2.96569205e-01  1.43205548e+03  3.53232111e+01  9.31237633e-02\n",
      "  1.52327230e+03  3.55755602e+01  1.09846704e-01  1.85446413e-01\n",
      " -6.02296571e-03  3.90349012e-02 -4.04383528e-05  2.34042876e+00]\n",
      "Gelman-Rubin statistics for free parameters:\n",
      "[1.00181176 1.00121862 1.00086513 1.00091547 1.00207858 1.00045814\n",
      " 1.00129391 1.00049645 1.00216962 1.00012034 1.00177234 1.00204773\n",
      " 1.00088381 1.00110201 1.0013069  1.00093243]\n",
      "All parameters converged to within 1% of unity.\n",
      "\n",
      "[::::      ]  40.0% completed  (Fri Mar 24 23:56:01 2023)\n",
      "Out-of-bound Trials:\n",
      "[  103  1753  7568 10930   955   652 21048    11   613 23050     3     2\n",
      "     4     6     0    32]\n",
      "Best Parameters: (chisq=27.5368)\n",
      "[ 4.10808095e+00  2.95431598e+00 -8.47477238e-01  3.16663878e-01\n",
      "  2.96569205e-01  1.43205548e+03  3.53232111e+01  9.31237633e-02\n",
      "  1.52327230e+03  3.55755602e+01  1.09846704e-01  1.85446413e-01\n",
      " -6.02296571e-03  3.90349012e-02 -4.04383528e-05  2.34042876e+00]\n",
      "Gelman-Rubin statistics for free parameters:\n",
      "[1.00161642 1.00126829 1.00077357 1.00106116 1.00182769 1.00077927\n",
      " 1.00164254 1.00056138 1.0020515  1.00060057 1.000374   1.00123246\n",
      " 1.00072486 1.00083856 1.00130371 1.00110262]\n",
      "All parameters converged to within 1% of unity.\n",
      "\n",
      "[:::::     ]  50.0% completed  (Fri Mar 24 23:56:08 2023)\n",
      "Out-of-bound Trials:\n",
      "[  131  2300  9686 14543  1255   751 26641    13   660 29319     3     2\n",
      "     6     7     0    39]\n",
      "Best Parameters: (chisq=27.5368)\n",
      "[ 4.10808095e+00  2.95431598e+00 -8.47477238e-01  3.16663878e-01\n",
      "  2.96569205e-01  1.43205548e+03  3.53232111e+01  9.31237633e-02\n",
      "  1.52327230e+03  3.55755602e+01  1.09846704e-01  1.85446413e-01\n",
      " -6.02296571e-03  3.90349012e-02 -4.04383528e-05  2.34042876e+00]\n",
      "Gelman-Rubin statistics for free parameters:\n",
      "[1.00136397 1.00109529 1.00051579 1.00091051 1.0014588  1.00047088\n",
      " 1.0015852  1.00047121 1.0015771  1.00049897 1.00028574 1.00133674\n",
      " 1.00042914 1.00086187 1.00113672 1.00096443]\n",
      "All parameters converged to within 1% of unity.\n",
      "\n",
      "[::::::    ]  60.0% completed  (Fri Mar 24 23:56:15 2023)\n",
      "Out-of-bound Trials:\n",
      "[  162  2825 11647 18221  1522   835 32202    14   709 35442     3     2\n",
      "     6     7     0    52]\n",
      "Best Parameters: (chisq=27.5368)\n",
      "[ 4.10808095e+00  2.95431598e+00 -8.47477238e-01  3.16663878e-01\n",
      "  2.96569205e-01  1.43205548e+03  3.53232111e+01  9.31237633e-02\n",
      "  1.52327230e+03  3.55755602e+01  1.09846704e-01  1.85446413e-01\n",
      " -6.02296571e-03  3.90349012e-02 -4.04383528e-05  2.34042876e+00]\n",
      "Gelman-Rubin statistics for free parameters:\n",
      "[1.00074199 1.00064    1.0003072  1.00056812 1.00083171 1.00040547\n",
      " 1.00150281 1.00046293 1.00103892 1.00033366 1.0002511  1.00085355\n",
      " 1.00026025 1.00037039 1.00065432 1.00059838]\n",
      "All parameters converged to within 1% of unity.\n",
      "\n",
      "All parameters satisfy the GR convergence threshold of 1.01, stopping\n",
      "the MCMC.\n",
      "\n",
      "MCMC Summary:\n",
      "-------------\n",
      "  Number of evaluated samples:        600930\n",
      "  Number of parallel chains:               9\n",
      "  Average iterations per chain:        66770\n",
      "  Burned-in iterations per chain:       5000\n",
      "  Thinning factor:                         5\n",
      "  MCMC sample size (thinned, burned): 111186\n",
      "  Acceptance rate:   22.76%\n",
      "\n",
      "Param name     Best fit   Lo HPD CR   Hi HPD CR        Mean    Std dev       S/N\n",
      "----------- ----------------------------------- ---------------------- ---------\n",
      "Avg_BL       4.1081e+00 -1.5008e-01  1.4261e-01  4.0929e+00 1.4396e-01      28.5\n",
      "PCA1         2.9543e+00 -1.7735e+00  1.6524e+00  2.7582e+00 1.6567e+00       1.8\n",
      "PCA2        -8.4748e-01 -6.4792e-02  6.1593e-02 -8.4908e-01 6.1719e-02      13.7\n",
      "PCA3         3.1666e-01 -2.4722e-01  2.1440e-01  2.8725e-01 2.2254e-01       1.4\n",
      "PCA4         2.9657e-01 -1.0720e-01  1.1932e-01  3.0670e-01 1.1233e-01       2.6\n",
      "peak_G1430   1.4321e+03 -2.7954e+00  2.2213e+00  1.4320e+03 2.4770e+00     578.1\n",
      "std_G1430    3.5323e+01 -2.4648e+00  2.8820e+00  3.5295e+01 2.5131e+00      14.1\n",
      "G1430_ampli  9.3124e-02 -7.0246e-03  5.4911e-03  9.2324e-02 6.2245e-03      15.0\n",
      "peak_G1515   1.5233e+03 -1.9683e+00  2.2511e+00  1.5233e+03 2.0758e+00     733.8\n",
      "std_G1515    3.5576e+01 -1.8747e+00  2.9827e+00  3.5894e+01 2.2580e+00      15.8\n",
      "G1515_ampli  1.0985e-01 -5.4302e-03  3.7438e-03  1.0903e-01 4.5809e-03      24.0\n",
      "Average_163  1.8545e-01 -3.8078e-03  3.5410e-03  1.8527e-01 3.6577e-03      50.7\n",
      "1635PeakPCA -6.0230e-03 -1.8921e-02  2.2053e-02 -4.6279e-03 2.0401e-02       0.3\n",
      "1635PeakPCA  3.9035e-02 -2.9110e-02  2.2281e-02  3.5188e-02 2.5235e-02       1.5\n",
      "m           -4.0438e-05 -2.9471e-04  2.8130e-04 -7.1754e-05 2.8007e-04       0.1\n",
      "b            2.3404e+00 -8.8056e-02  9.5620e-02  2.3509e+00 8.8369e-02      26.5\n",
      "\n",
      "  Best-parameter's chi-squared:        27.5368\n",
      "  Best-parameter's -2*log(posterior):  27.5368\n",
      "  Bayesian Information Criterion:     126.2840\n",
      "  Reduced chi-squared:                  0.0595\n",
      "  Standard deviation of residuals:  0.00239767\n",
      "\n",
      "Output sampler files:\n",
      "  '/Users/sarahcshi/Documents/GitHub/PyIRoGlass/docs/examples/transmission_ftir/NPZFILES/RESULTS/STD_D1010_012821_256s_100x100_a.npz'\n",
      "  '/Users/sarahcshi/Documents/GitHub/PyIRoGlass/docs/examples/transmission_ftir/LOGFILES/RESULTS/STD_D1010_012821_256s_100x100_a.log'\n"
     ]
    }
   ],
   "source": [
    "DF_OUTPUT, FAILURES = pig.Run_All_Spectra(DFS_DICT, OUTPUT_PATH)\n",
    "DF_OUTPUT.to_csv('DF.csv')"
   ]
  },
  {
   "cell_type": "markdown",
   "metadata": {},
   "source": [
    "It took 3 minutes to process 3 spectra on my Macbook Pro 2.6 GHz 6-Core Intel Core i7. It takes about 7.5 minutes to process 3 spectra on Google Colab, given the presence of fewer cpus. \n",
    "\n",
    "Run_All_Spectra returns a dataframe of outputs. Let's look at what's included. "
   ]
  },
  {
   "cell_type": "code",
   "execution_count": 12,
   "metadata": {
    "tags": []
   },
   "outputs": [
    {
     "data": {
      "text/html": [
       "<div>\n",
       "<style scoped>\n",
       "    .dataframe tbody tr th:only-of-type {\n",
       "        vertical-align: middle;\n",
       "    }\n",
       "\n",
       "    .dataframe tbody tr th {\n",
       "        vertical-align: top;\n",
       "    }\n",
       "\n",
       "    .dataframe thead th {\n",
       "        text-align: right;\n",
       "    }\n",
       "</style>\n",
       "<table border=\"1\" class=\"dataframe\">\n",
       "  <thead>\n",
       "    <tr style=\"text-align: right;\">\n",
       "      <th></th>\n",
       "      <th>PH_3550_M</th>\n",
       "      <th>PH_3550_STD</th>\n",
       "      <th>H2OT_3550_MAX</th>\n",
       "      <th>BL_H2OT_3550_MAX</th>\n",
       "      <th>H2OT_3550_SAT?</th>\n",
       "      <th>PH_1635_BP</th>\n",
       "      <th>PH_1635_STD</th>\n",
       "      <th>H2Om_1635_MAX</th>\n",
       "      <th>BL_H2Om_1635_MAX</th>\n",
       "      <th>PH_1515_BP</th>\n",
       "      <th>...</th>\n",
       "      <th>PCA4_BP</th>\n",
       "      <th>PCA4_STD</th>\n",
       "      <th>m_BP</th>\n",
       "      <th>m_STD</th>\n",
       "      <th>b_BP</th>\n",
       "      <th>b_STD</th>\n",
       "      <th>PH_1635_PCA1_BP</th>\n",
       "      <th>PH_1635_PCA1_STD</th>\n",
       "      <th>PH_1635_PCA2_BP</th>\n",
       "      <th>PH_1635_PCA2_STD</th>\n",
       "    </tr>\n",
       "  </thead>\n",
       "  <tbody>\n",
       "    <tr>\n",
       "      <th>AC4_OL49_021920_30x30_H2O_a</th>\n",
       "      <td>2.17225</td>\n",
       "      <td>0.002209</td>\n",
       "      <td>2.649837</td>\n",
       "      <td>0.459865</td>\n",
       "      <td>*</td>\n",
       "      <td>0.673443</td>\n",
       "      <td>0.003644</td>\n",
       "      <td>0.585642</td>\n",
       "      <td>0.749995</td>\n",
       "      <td>0.110622</td>\n",
       "      <td>...</td>\n",
       "      <td>-0.009982</td>\n",
       "      <td>0.115293</td>\n",
       "      <td>0.000126</td>\n",
       "      <td>0.000289</td>\n",
       "      <td>1.256907</td>\n",
       "      <td>0.091123</td>\n",
       "      <td>0.035949</td>\n",
       "      <td>0.020137</td>\n",
       "      <td>0.094962</td>\n",
       "      <td>0.022168</td>\n",
       "    </tr>\n",
       "    <tr>\n",
       "      <th>AC4_OL53_101220_256s_30x30_a</th>\n",
       "      <td>1.523343</td>\n",
       "      <td>0.003309</td>\n",
       "      <td>1.631044</td>\n",
       "      <td>0.135541</td>\n",
       "      <td>-</td>\n",
       "      <td>0.295489</td>\n",
       "      <td>0.003673</td>\n",
       "      <td>0.230123</td>\n",
       "      <td>0.323866</td>\n",
       "      <td>0.052887</td>\n",
       "      <td>...</td>\n",
       "      <td>-0.009614</td>\n",
       "      <td>0.115829</td>\n",
       "      <td>0.000257</td>\n",
       "      <td>0.000292</td>\n",
       "      <td>0.492060</td>\n",
       "      <td>0.092445</td>\n",
       "      <td>-0.025254</td>\n",
       "      <td>0.019920</td>\n",
       "      <td>0.029412</td>\n",
       "      <td>0.019845</td>\n",
       "    </tr>\n",
       "    <tr>\n",
       "      <th>STD_D1010_012821_256s_100x100_a</th>\n",
       "      <td>2.710895</td>\n",
       "      <td>0.001587</td>\n",
       "      <td>2.915508</td>\n",
       "      <td>0.206639</td>\n",
       "      <td>*</td>\n",
       "      <td>0.185446</td>\n",
       "      <td>0.003658</td>\n",
       "      <td>0.748274</td>\n",
       "      <td>1.063674</td>\n",
       "      <td>0.109847</td>\n",
       "      <td>...</td>\n",
       "      <td>0.296569</td>\n",
       "      <td>0.112326</td>\n",
       "      <td>-0.000040</td>\n",
       "      <td>0.000280</td>\n",
       "      <td>2.340429</td>\n",
       "      <td>0.088369</td>\n",
       "      <td>-0.006023</td>\n",
       "      <td>0.020401</td>\n",
       "      <td>0.039035</td>\n",
       "      <td>0.025235</td>\n",
       "    </tr>\n",
       "  </tbody>\n",
       "</table>\n",
       "<p>3 rows × 51 columns</p>\n",
       "</div>"
      ],
      "text/plain": [
       "                                PH_3550_M PH_3550_STD H2OT_3550_MAX  \\\n",
       "AC4_OL49_021920_30x30_H2O_a       2.17225    0.002209      2.649837   \n",
       "AC4_OL53_101220_256s_30x30_a     1.523343    0.003309      1.631044   \n",
       "STD_D1010_012821_256s_100x100_a  2.710895    0.001587      2.915508   \n",
       "\n",
       "                                BL_H2OT_3550_MAX H2OT_3550_SAT?  PH_1635_BP  \\\n",
       "AC4_OL49_021920_30x30_H2O_a             0.459865              *    0.673443   \n",
       "AC4_OL53_101220_256s_30x30_a            0.135541              -    0.295489   \n",
       "STD_D1010_012821_256s_100x100_a         0.206639              *    0.185446   \n",
       "\n",
       "                                 PH_1635_STD  H2Om_1635_MAX  BL_H2Om_1635_MAX  \\\n",
       "AC4_OL49_021920_30x30_H2O_a         0.003644       0.585642          0.749995   \n",
       "AC4_OL53_101220_256s_30x30_a        0.003673       0.230123          0.323866   \n",
       "STD_D1010_012821_256s_100x100_a     0.003658       0.748274          1.063674   \n",
       "\n",
       "                                 PH_1515_BP  ...   PCA4_BP  PCA4_STD  \\\n",
       "AC4_OL49_021920_30x30_H2O_a        0.110622  ... -0.009982  0.115293   \n",
       "AC4_OL53_101220_256s_30x30_a       0.052887  ... -0.009614  0.115829   \n",
       "STD_D1010_012821_256s_100x100_a    0.109847  ...  0.296569  0.112326   \n",
       "\n",
       "                                     m_BP     m_STD      b_BP     b_STD  \\\n",
       "AC4_OL49_021920_30x30_H2O_a      0.000126  0.000289  1.256907  0.091123   \n",
       "AC4_OL53_101220_256s_30x30_a     0.000257  0.000292  0.492060  0.092445   \n",
       "STD_D1010_012821_256s_100x100_a -0.000040  0.000280  2.340429  0.088369   \n",
       "\n",
       "                                 PH_1635_PCA1_BP  PH_1635_PCA1_STD  \\\n",
       "AC4_OL49_021920_30x30_H2O_a             0.035949          0.020137   \n",
       "AC4_OL53_101220_256s_30x30_a           -0.025254          0.019920   \n",
       "STD_D1010_012821_256s_100x100_a        -0.006023          0.020401   \n",
       "\n",
       "                                 PH_1635_PCA2_BP  PH_1635_PCA2_STD  \n",
       "AC4_OL49_021920_30x30_H2O_a             0.094962          0.022168  \n",
       "AC4_OL53_101220_256s_30x30_a            0.029412          0.019845  \n",
       "STD_D1010_012821_256s_100x100_a         0.039035          0.025235  \n",
       "\n",
       "[3 rows x 51 columns]"
      ]
     },
     "execution_count": 12,
     "metadata": {},
     "output_type": "execute_result"
    }
   ],
   "source": [
    "DF_OUTPUT"
   ]
  },
  {
   "cell_type": "markdown",
   "metadata": {},
   "source": [
    "We can look at all the columns in this dataframe, given the size. "
   ]
  },
  {
   "cell_type": "code",
   "execution_count": 13,
   "metadata": {
    "tags": []
   },
   "outputs": [
    {
     "data": {
      "text/plain": [
       "Index(['PH_3550_M', 'PH_3550_STD', 'H2OT_3550_MAX', 'BL_H2OT_3550_MAX',\n",
       "       'H2OT_3550_SAT?', 'PH_1635_BP', 'PH_1635_STD', 'H2Om_1635_MAX',\n",
       "       'BL_H2Om_1635_MAX', 'PH_1515_BP', 'PH_1515_STD', 'P_1515_BP',\n",
       "       'P_1515_STD', 'STD_1515_BP', 'STD_1515_STD', 'MAX_1515_ABS',\n",
       "       'BL_MAX_1515_ABS', 'PH_1430_BP', 'PH_1430_STD', 'P_1430_BP',\n",
       "       'P_1430_STD', 'STD_1430_BP', 'STD_1430_STD', 'MAX_1430_ABS',\n",
       "       'BL_MAX_1430_ABS', 'PH_5200_M', 'PH_4500_M', 'PH_5200_STD',\n",
       "       'PH_4500_STD', 'S2N_P5200', 'S2N_P4500', 'ERR_5200', 'ERR_4500',\n",
       "       'AVG_BL_BP', 'AVG_BL_STD', 'PCA1_BP', 'PCA1_STD', 'PCA2_BP', 'PCA2_STD',\n",
       "       'PCA3_BP', 'PCA3_STD', 'PCA4_BP', 'PCA4_STD', 'm_BP', 'm_STD', 'b_BP',\n",
       "       'b_STD', 'PH_1635_PCA1_BP', 'PH_1635_PCA1_STD', 'PH_1635_PCA2_BP',\n",
       "       'PH_1635_PCA2_STD'],\n",
       "      dtype='object')"
      ]
     },
     "execution_count": 13,
     "metadata": {},
     "output_type": "execute_result"
    }
   ],
   "source": [
    "DF_OUTPUT.columns"
   ]
  },
  {
   "cell_type": "markdown",
   "metadata": {},
   "source": [
    "All columns with the prefix of PH represent a peak height. All columns with the suffix of _M represent the mean value, and the suffix of _STD represents 1 $\\sigma$. \n",
    "\n",
    "The column H2OT_3550_SAT? returns a - if the sample is not saturated, and a * if the sample is saturated. This is based on the maximum absorbance of the peak, and the warning of * indicates that we must consider the concentrations more. The following functions calculating concentration handle this and will suggest best values to use. \n",
    "\n",
    "The columns S2N_P5200 and S2N_P4500 represent the signal to noise ratios for the $\\mathrm{H_2O_{m,5200}}$ and $\\mathrm{OH^-_{4500}}$ peaks. If the values are greater than 4, indicating that the signal is meaningful, the ERR_5200 and ERR_4500 peaks return a - value. If signal-to-noise is too low, the warning of * is returned. \n",
    "\n",
    "The columns after describe the fitting parameters for generating the baseline and the $\\mathrm{H_2O_{m,1635}}$ peak, so you can generate the baseline yourself. "
   ]
  },
  {
   "cell_type": "markdown",
   "metadata": {},
   "source": [
    "# Figure Outputs\n",
    "\n",
    "Quite few figures, log files, and npz files are generated by Run_All_Spectra, assuming you provide an export path and not just the value of `None`. Let's look at a few of them together. "
   ]
  },
  {
   "cell_type": "markdown",
   "metadata": {},
   "source": [
    "PyIRoGlass creates this figure for visualizing how each peak within the 1000-5500 cm${^{-1}}$ is fit, with their peak heights shown. "
   ]
  },
  {
   "cell_type": "code",
   "execution_count": 14,
   "metadata": {
    "tags": []
   },
   "outputs": [
    {
     "data": {
      "text/html": [
       "\n",
       "        <iframe\n",
       "            width=\"100%\"\n",
       "            height=\"100%\"\n",
       "            src=\"FIGURES/RESULTS/AC4_OL49_021920_30x30_H2O_a.pdf\"\n",
       "            frameborder=\"0\"\n",
       "            allowfullscreen\n",
       "            \n",
       "        ></iframe>\n",
       "        "
      ],
      "text/plain": [
       "<IPython.lib.display.IFrame at 0x12e1f2820>"
      ]
     },
     "execution_count": 14,
     "metadata": {},
     "output_type": "execute_result"
    }
   ],
   "source": [
    "IFrame(\"FIGURES/RESULTS/AC4_OL49_021920_30x30_H2O_a.pdf\", width = '100%', height = '100%')"
   ]
  },
  {
   "cell_type": "markdown",
   "metadata": {},
   "source": [
    "We can visualize how well PyIRoGlass does in fitting this transmission FTIR spectrum, with the modelfit figure. This plots the fit from $\\mathrm{MC^3}$ against the transmission FTIR spectrum, with the residual in fit. "
   ]
  },
  {
   "cell_type": "code",
   "execution_count": 15,
   "metadata": {
    "tags": []
   },
   "outputs": [
    {
     "data": {
      "text/html": [
       "\n",
       "        <iframe\n",
       "            width=\"100%\"\n",
       "            height=\"100%\"\n",
       "            src=\"PLOTFILES/RESULTS/MODELFIT/AC4_OL49_021920_30x30_H2O_a_modelfit.pdf\"\n",
       "            frameborder=\"0\"\n",
       "            allowfullscreen\n",
       "            \n",
       "        ></iframe>\n",
       "        "
      ],
      "text/plain": [
       "<IPython.lib.display.IFrame at 0x12e1f2640>"
      ]
     },
     "execution_count": 15,
     "metadata": {},
     "output_type": "execute_result"
    }
   ],
   "source": [
    "IFrame(\"PLOTFILES/RESULTS/MODELFIT/AC4_OL49_021920_30x30_H2O_a_modelfit.pdf\", width = '100%', height = '100%')"
   ]
  },
  {
   "cell_type": "markdown",
   "metadata": {},
   "source": [
    "The histogram figure shows the distribution of posterior probability densities, with the mean value displayed in the navy dashed line. The shaded region represents the 68% confidence interval around the value. "
   ]
  },
  {
   "cell_type": "code",
   "execution_count": 16,
   "metadata": {
    "tags": []
   },
   "outputs": [
    {
     "data": {
      "text/html": [
       "\n",
       "        <iframe\n",
       "            width=\"100%\"\n",
       "            height=\"100%\"\n",
       "            src=\"PLOTFILES/RESULTS/HISTOGRAM/AC4_OL49_021920_30x30_H2O_a_histogram.pdf\"\n",
       "            frameborder=\"0\"\n",
       "            allowfullscreen\n",
       "            \n",
       "        ></iframe>\n",
       "        "
      ],
      "text/plain": [
       "<IPython.lib.display.IFrame at 0x1102bfac0>"
      ]
     },
     "execution_count": 16,
     "metadata": {},
     "output_type": "execute_result"
    }
   ],
   "source": [
    "IFrame(\"PLOTFILES/RESULTS/HISTOGRAM/AC4_OL49_021920_30x30_H2O_a_histogram.pdf\", width = '100%', height = '100%')"
   ]
  },
  {
   "cell_type": "markdown",
   "metadata": {},
   "source": [
    "The pairwise figure plots the posterior probability density distribution for the 16 fitting parameters of Equation 10, allowing for the visualization of covariance within the parameters. Accounting for covariance allows us to properly account for uncertainty. "
   ]
  },
  {
   "cell_type": "code",
   "execution_count": 17,
   "metadata": {
    "tags": []
   },
   "outputs": [
    {
     "data": {
      "text/html": [
       "\n",
       "        <iframe\n",
       "            width=\"100%\"\n",
       "            height=\"100%\"\n",
       "            src=\"PLOTFILES/RESULTS/PAIRWISE/AC4_OL49_021920_30x30_H2O_a_pairwise.pdf\"\n",
       "            frameborder=\"0\"\n",
       "            allowfullscreen\n",
       "            \n",
       "        ></iframe>\n",
       "        "
      ],
      "text/plain": [
       "<IPython.lib.display.IFrame at 0x19cfbceb0>"
      ]
     },
     "execution_count": 17,
     "metadata": {},
     "output_type": "execute_result"
    }
   ],
   "source": [
    "IFrame(\"PLOTFILES/RESULTS/PAIRWISE/AC4_OL49_021920_30x30_H2O_a_pairwise.pdf\", width = '100%', height = '100%')"
   ]
  },
  {
   "cell_type": "markdown",
   "metadata": {},
   "source": [
    "The trace figure shows how the parameters evolve through MCMC sampling. "
   ]
  },
  {
   "cell_type": "code",
   "execution_count": 18,
   "metadata": {
    "tags": []
   },
   "outputs": [
    {
     "data": {
      "text/html": [
       "\n",
       "        <iframe\n",
       "            width=\"100%\"\n",
       "            height=\"100px\"\n",
       "            src=\"PLOTFILES/RESULTS/TRACE/AC4_OL49_021920_30x30_H2O_a_trace.pdf\"\n",
       "            frameborder=\"0\"\n",
       "            allowfullscreen\n",
       "            \n",
       "        ></iframe>\n",
       "        "
      ],
      "text/plain": [
       "<IPython.lib.display.IFrame at 0x19cdf7400>"
      ]
     },
     "execution_count": 18,
     "metadata": {},
     "output_type": "execute_result"
    }
   ],
   "source": [
    "IFrame(\"PLOTFILES/RESULTS/TRACE/AC4_OL49_021920_30x30_H2O_a_trace.pdf\", width = '100%', height = '100px')"
   ]
  },
  {
   "cell_type": "markdown",
   "metadata": {},
   "source": [
    "# LOG and NPZ\n",
    "\n",
    ".log files record the performance of the MCMC algorithm through the samples, and the best parameters at each 10% increment. \n",
    "\n",
    ".npz files store all the best-parameters, sampled parameters, etc. in a ready-to-use NumPy format. \n",
    "\n",
    "We won't open these here, but these are quite useful to review! "
   ]
  },
  {
   "cell_type": "markdown",
   "metadata": {},
   "source": [
    "# Concentrations\n",
    "\n",
    "We now want to convert all those peak heights (with uncertainties) to concentrations (with uncertainties), by applying the Beer-Lambert Law. We do so by using the Concentration_Output function, which takes in these parameters and samples over N samples for a secondary MCMC: \n",
    "\n",
    "- DF_OUTPUT: Output from Run_All_Spectra\n",
    "- N: Number of samples for this MCMC\n",
    "- THICKNESS: Wafer thickness loaded from ChemThick\n",
    "- MICOMP: Glass composition loaded from ChemThick\n",
    "- T_ROOM: Room temperature at time of FTIR analysis, given the sensitivity of density to T. \n",
    "- P_ROOM: Room pressure at time of FTIR analysis, given the sensitivity of density to P. \n"
   ]
  },
  {
   "cell_type": "code",
   "execution_count": 19,
   "metadata": {
    "tags": []
   },
   "outputs": [],
   "source": [
    "T_ROOM = 25 # C\n",
    "P_ROOM = 1 # Bar\n",
    "\n",
    "N = 500000 # MCMC samples\n",
    "DENSITY_EPSILON, MEGA_SPREADSHEET = pig.Concentration_Output(DF_OUTPUT, N, THICKNESS, MICOMP, T_ROOM, P_ROOM)\n",
    "\n",
    "DENSITY_EPSILON.to_csv('DensityEpsilon.csv')\n",
    "MEGA_SPREADSHEET.to_csv('H2OCO2.csv')"
   ]
  },
  {
   "cell_type": "markdown",
   "metadata": {},
   "source": [
    "We're all done now! Let's print your results. "
   ]
  },
  {
   "cell_type": "code",
   "execution_count": 20,
   "metadata": {
    "tags": []
   },
   "outputs": [
    {
     "data": {
      "text/html": [
       "<div>\n",
       "<style scoped>\n",
       "    .dataframe tbody tr th:only-of-type {\n",
       "        vertical-align: middle;\n",
       "    }\n",
       "\n",
       "    .dataframe tbody tr th {\n",
       "        vertical-align: top;\n",
       "    }\n",
       "\n",
       "    .dataframe thead th {\n",
       "        text-align: right;\n",
       "    }\n",
       "</style>\n",
       "<table border=\"1\" class=\"dataframe\">\n",
       "  <thead>\n",
       "    <tr style=\"text-align: right;\">\n",
       "      <th></th>\n",
       "      <th>H2OT_MEAN</th>\n",
       "      <th>H2OT_STD</th>\n",
       "      <th>H2OT_3550_M</th>\n",
       "      <th>H2OT_3550_STD</th>\n",
       "      <th>H2OT_3550_SAT</th>\n",
       "      <th>H2Om_1635_BP</th>\n",
       "      <th>H2Om_1635_STD</th>\n",
       "      <th>CO2_MEAN</th>\n",
       "      <th>CO2_STD</th>\n",
       "      <th>CO2_1515_BP</th>\n",
       "      <th>...</th>\n",
       "      <th>CO2_1430_BP</th>\n",
       "      <th>CO2_1430_STD</th>\n",
       "      <th>H2Om_5200_M</th>\n",
       "      <th>H2Om_5200_STD</th>\n",
       "      <th>OH_4500_M</th>\n",
       "      <th>OH_4500_STD</th>\n",
       "      <th>PH_5200_S2N</th>\n",
       "      <th>PH_4500_S2N</th>\n",
       "      <th>ERR_5200</th>\n",
       "      <th>ERR_4500</th>\n",
       "    </tr>\n",
       "  </thead>\n",
       "  <tbody>\n",
       "    <tr>\n",
       "      <th>AC4_OL49_021920_30x30_H2O_a</th>\n",
       "      <td>2.573664</td>\n",
       "      <td>0.161978</td>\n",
       "      <td>2.422425</td>\n",
       "      <td>0.190154</td>\n",
       "      <td>*</td>\n",
       "      <td>1.330302</td>\n",
       "      <td>0.193971</td>\n",
       "      <td>747.899369</td>\n",
       "      <td>40.223902</td>\n",
       "      <td>756.30958</td>\n",
       "      <td>...</td>\n",
       "      <td>741.764409</td>\n",
       "      <td>57.92496</td>\n",
       "      <td>1.819252</td>\n",
       "      <td>0.350186</td>\n",
       "      <td>1.247276</td>\n",
       "      <td>0.259825</td>\n",
       "      <td>12.195931</td>\n",
       "      <td>8.15733</td>\n",
       "      <td>-</td>\n",
       "      <td>-</td>\n",
       "    </tr>\n",
       "    <tr>\n",
       "      <th>AC4_OL53_101220_256s_30x30_a</th>\n",
       "      <td>4.038927</td>\n",
       "      <td>0.432707</td>\n",
       "      <td>4.038927</td>\n",
       "      <td>0.432707</td>\n",
       "      <td>-</td>\n",
       "      <td>1.465881</td>\n",
       "      <td>0.253745</td>\n",
       "      <td>753.92969</td>\n",
       "      <td>74.206551</td>\n",
       "      <td>730.404544</td>\n",
       "      <td>...</td>\n",
       "      <td>777.454835</td>\n",
       "      <td>112.012075</td>\n",
       "      <td>1.698587</td>\n",
       "      <td>0.392368</td>\n",
       "      <td>2.744228</td>\n",
       "      <td>0.669637</td>\n",
       "      <td>6.904155</td>\n",
       "      <td>5.527653</td>\n",
       "      <td>-</td>\n",
       "      <td>-</td>\n",
       "    </tr>\n",
       "    <tr>\n",
       "      <th>STD_D1010_012821_256s_100x100_a</th>\n",
       "      <td>0.914890</td>\n",
       "      <td>0.096941</td>\n",
       "      <td>1.202123</td>\n",
       "      <td>0.088221</td>\n",
       "      <td>*</td>\n",
       "      <td>0.164152</td>\n",
       "      <td>0.027227</td>\n",
       "      <td>214.200028</td>\n",
       "      <td>10.304429</td>\n",
       "      <td>231.132432</td>\n",
       "      <td>...</td>\n",
       "      <td>195.945086</td>\n",
       "      <td>15.445016</td>\n",
       "      <td>0.303658</td>\n",
       "      <td>0.072726</td>\n",
       "      <td>0.747913</td>\n",
       "      <td>0.191617</td>\n",
       "      <td>12.117052</td>\n",
       "      <td>13.264649</td>\n",
       "      <td>-</td>\n",
       "      <td>-</td>\n",
       "    </tr>\n",
       "  </tbody>\n",
       "</table>\n",
       "<p>3 rows × 21 columns</p>\n",
       "</div>"
      ],
      "text/plain": [
       "                                 H2OT_MEAN  H2OT_STD H2OT_3550_M  \\\n",
       "AC4_OL49_021920_30x30_H2O_a       2.573664  0.161978    2.422425   \n",
       "AC4_OL53_101220_256s_30x30_a      4.038927  0.432707    4.038927   \n",
       "STD_D1010_012821_256s_100x100_a   0.914890  0.096941    1.202123   \n",
       "\n",
       "                                H2OT_3550_STD H2OT_3550_SAT H2Om_1635_BP  \\\n",
       "AC4_OL49_021920_30x30_H2O_a          0.190154             *     1.330302   \n",
       "AC4_OL53_101220_256s_30x30_a         0.432707             -     1.465881   \n",
       "STD_D1010_012821_256s_100x100_a      0.088221             *     0.164152   \n",
       "\n",
       "                                H2Om_1635_STD    CO2_MEAN    CO2_STD  \\\n",
       "AC4_OL49_021920_30x30_H2O_a          0.193971  747.899369  40.223902   \n",
       "AC4_OL53_101220_256s_30x30_a         0.253745   753.92969  74.206551   \n",
       "STD_D1010_012821_256s_100x100_a      0.027227  214.200028  10.304429   \n",
       "\n",
       "                                CO2_1515_BP  ... CO2_1430_BP CO2_1430_STD  \\\n",
       "AC4_OL49_021920_30x30_H2O_a       756.30958  ...  741.764409     57.92496   \n",
       "AC4_OL53_101220_256s_30x30_a     730.404544  ...  777.454835   112.012075   \n",
       "STD_D1010_012821_256s_100x100_a  231.132432  ...  195.945086    15.445016   \n",
       "\n",
       "                                H2Om_5200_M H2Om_5200_STD OH_4500_M  \\\n",
       "AC4_OL49_021920_30x30_H2O_a        1.819252      0.350186  1.247276   \n",
       "AC4_OL53_101220_256s_30x30_a       1.698587      0.392368  2.744228   \n",
       "STD_D1010_012821_256s_100x100_a    0.303658      0.072726  0.747913   \n",
       "\n",
       "                                OH_4500_STD PH_5200_S2N PH_4500_S2N ERR_5200  \\\n",
       "AC4_OL49_021920_30x30_H2O_a        0.259825   12.195931     8.15733        -   \n",
       "AC4_OL53_101220_256s_30x30_a       0.669637    6.904155    5.527653        -   \n",
       "STD_D1010_012821_256s_100x100_a    0.191617   12.117052   13.264649        -   \n",
       "\n",
       "                                ERR_4500  \n",
       "AC4_OL49_021920_30x30_H2O_a            -  \n",
       "AC4_OL53_101220_256s_30x30_a           -  \n",
       "STD_D1010_012821_256s_100x100_a        -  \n",
       "\n",
       "[3 rows x 21 columns]"
      ]
     },
     "execution_count": 20,
     "metadata": {},
     "output_type": "execute_result"
    }
   ],
   "source": [
    "MEGA_SPREADSHEET"
   ]
  },
  {
   "cell_type": "markdown",
   "metadata": {},
   "source": [
    "There are a few things to note. Each column with the suffix _MEAN represents the mean value, _BP represents the best-parameter from MCMC, and _STD represents the standard deviation. We recommend the use of the 'H2OT_MEAN', 'H2OT_STD', 'CO2_MEAN', and 'CO2_STD' columns. The columns with the suffix _S2N show the signal-to-noise ratio of the NIR peaks, and the columns with the prefix ERR_ just process this information, returning a '-' if the peaks are meaningful and a '*' if the signal is too low. \n",
    "\n",
    "Concentrations of $\\mathrm{H_2O}$ depend on whether your sample is saturated or not. If your sample is unsaturated (marked by H2OT_3550_SAT == '-'), the column 'H2OT_MEAN'=='H2OT_3550_M'. If your sample is saturated (marked by H2OT_3550_SAT == '*'), the column of 'H2OT_MEAN'=='H2Om_1635_BP'+'OH_4500_M'. The $\\mathrm{H_2O_{t, 3550}}$ peak cannot be used, given potential nonlinearity in the Beer-Lambert Law. See the discussion of this handling of speciation in the paper. \n"
   ]
  },
  {
   "cell_type": "markdown",
   "metadata": {},
   "source": [
    "Here is also all the other relevant information for calculating these concentrations. All the density and molar absorptivity information is stored in this dataframe. \n",
    "\n",
    "The column 'Density' contains the densities used for the final concentration. The values between 'Density' and 'Density_Sat' will be different if the sample is saturated, showing the difference in densities when using variable concentrations of $\\mathrm{H_2O_m}$. \n",
    "\n",
    "'Tau' and 'Na/Na+Ca' calculate the compositional parameters required for determining molar absorptivity. All calculated molar absorptivities and their uncertainties (sigma_ prefix) from the inversion are provided in the dataframe. \n"
   ]
  },
  {
   "cell_type": "code",
   "execution_count": 21,
   "metadata": {
    "tags": []
   },
   "outputs": [
    {
     "data": {
      "text/html": [
       "<div>\n",
       "<style scoped>\n",
       "    .dataframe tbody tr th:only-of-type {\n",
       "        vertical-align: middle;\n",
       "    }\n",
       "\n",
       "    .dataframe tbody tr th {\n",
       "        vertical-align: top;\n",
       "    }\n",
       "\n",
       "    .dataframe thead th {\n",
       "        text-align: right;\n",
       "    }\n",
       "</style>\n",
       "<table border=\"1\" class=\"dataframe\">\n",
       "  <thead>\n",
       "    <tr style=\"text-align: right;\">\n",
       "      <th></th>\n",
       "      <th>Density</th>\n",
       "      <th>Density_Sat</th>\n",
       "      <th>Tau</th>\n",
       "      <th>Na/Na+Ca</th>\n",
       "      <th>epsilon_H2OT_3550</th>\n",
       "      <th>sigma_epsilon_H2OT_3550</th>\n",
       "      <th>epsilon_H2Om_1635</th>\n",
       "      <th>sigma_epsilon_H2Om_1635</th>\n",
       "      <th>epsilon_CO2</th>\n",
       "      <th>sigma_epsilon_CO2</th>\n",
       "      <th>epsilon_H2Om_5200</th>\n",
       "      <th>sigma_epsilon_H2Om_5200</th>\n",
       "      <th>epsilon_OH_4500</th>\n",
       "      <th>sigma_epsilon_OH_4500</th>\n",
       "    </tr>\n",
       "  </thead>\n",
       "  <tbody>\n",
       "    <tr>\n",
       "      <th>AC4_OL49_021920_30x30_H2O_a</th>\n",
       "      <td>2681.962854</td>\n",
       "      <td>2677.889530</td>\n",
       "      <td>0.705990</td>\n",
       "      <td>0.499048</td>\n",
       "      <td>66.111161</td>\n",
       "      <td>7.524313</td>\n",
       "      <td>37.322108</td>\n",
       "      <td>8.645058</td>\n",
       "      <td>263.432023</td>\n",
       "      <td>20.347638</td>\n",
       "      <td>1.009457</td>\n",
       "      <td>0.300824</td>\n",
       "      <td>0.861196</td>\n",
       "      <td>0.279541</td>\n",
       "    </tr>\n",
       "    <tr>\n",
       "      <th>AC4_OL53_101220_256s_30x30_a</th>\n",
       "      <td>2702.703546</td>\n",
       "      <td>2702.703546</td>\n",
       "      <td>0.682895</td>\n",
       "      <td>0.389547</td>\n",
       "      <td>64.462869</td>\n",
       "      <td>7.401240</td>\n",
       "      <td>34.452486</td>\n",
       "      <td>8.504267</td>\n",
       "      <td>302.327096</td>\n",
       "      <td>18.068230</td>\n",
       "      <td>0.901474</td>\n",
       "      <td>0.295851</td>\n",
       "      <td>0.779611</td>\n",
       "      <td>0.274894</td>\n",
       "    </tr>\n",
       "    <tr>\n",
       "      <th>STD_D1010_012821_256s_100x100_a</th>\n",
       "      <td>2795.316967</td>\n",
       "      <td>2803.973265</td>\n",
       "      <td>0.658501</td>\n",
       "      <td>0.331580</td>\n",
       "      <td>62.721880</td>\n",
       "      <td>7.272084</td>\n",
       "      <td>31.421482</td>\n",
       "      <td>8.354347</td>\n",
       "      <td>322.917560</td>\n",
       "      <td>16.791353</td>\n",
       "      <td>0.787418</td>\n",
       "      <td>0.290534</td>\n",
       "      <td>0.693438</td>\n",
       "      <td>0.269975</td>\n",
       "    </tr>\n",
       "  </tbody>\n",
       "</table>\n",
       "</div>"
      ],
      "text/plain": [
       "                                     Density  Density_Sat       Tau  Na/Na+Ca  \\\n",
       "AC4_OL49_021920_30x30_H2O_a      2681.962854  2677.889530  0.705990  0.499048   \n",
       "AC4_OL53_101220_256s_30x30_a     2702.703546  2702.703546  0.682895  0.389547   \n",
       "STD_D1010_012821_256s_100x100_a  2795.316967  2803.973265  0.658501  0.331580   \n",
       "\n",
       "                                 epsilon_H2OT_3550  sigma_epsilon_H2OT_3550  \\\n",
       "AC4_OL49_021920_30x30_H2O_a              66.111161                 7.524313   \n",
       "AC4_OL53_101220_256s_30x30_a             64.462869                 7.401240   \n",
       "STD_D1010_012821_256s_100x100_a          62.721880                 7.272084   \n",
       "\n",
       "                                 epsilon_H2Om_1635  sigma_epsilon_H2Om_1635  \\\n",
       "AC4_OL49_021920_30x30_H2O_a              37.322108                 8.645058   \n",
       "AC4_OL53_101220_256s_30x30_a             34.452486                 8.504267   \n",
       "STD_D1010_012821_256s_100x100_a          31.421482                 8.354347   \n",
       "\n",
       "                                 epsilon_CO2  sigma_epsilon_CO2  \\\n",
       "AC4_OL49_021920_30x30_H2O_a       263.432023          20.347638   \n",
       "AC4_OL53_101220_256s_30x30_a      302.327096          18.068230   \n",
       "STD_D1010_012821_256s_100x100_a   322.917560          16.791353   \n",
       "\n",
       "                                 epsilon_H2Om_5200  sigma_epsilon_H2Om_5200  \\\n",
       "AC4_OL49_021920_30x30_H2O_a               1.009457                 0.300824   \n",
       "AC4_OL53_101220_256s_30x30_a              0.901474                 0.295851   \n",
       "STD_D1010_012821_256s_100x100_a           0.787418                 0.290534   \n",
       "\n",
       "                                 epsilon_OH_4500  sigma_epsilon_OH_4500  \n",
       "AC4_OL49_021920_30x30_H2O_a             0.861196               0.279541  \n",
       "AC4_OL53_101220_256s_30x30_a            0.779611               0.274894  \n",
       "STD_D1010_012821_256s_100x100_a         0.693438               0.269975  "
      ]
     },
     "execution_count": 21,
     "metadata": {},
     "output_type": "execute_result"
    }
   ],
   "source": [
    "DENSITY_EPSILON"
   ]
  },
  {
   "cell_type": "code",
   "execution_count": null,
   "metadata": {},
   "outputs": [],
   "source": []
  }
 ],
 "metadata": {
  "kernelspec": {
   "display_name": "Python 3 (ipykernel)",
   "language": "python",
   "name": "python3"
  },
  "language_info": {
   "codemirror_mode": {
    "name": "ipython",
    "version": 3
   },
   "file_extension": ".py",
   "mimetype": "text/x-python",
   "name": "python",
   "nbconvert_exporter": "python",
   "pygments_lexer": "ipython3",
   "version": "3.9.16"
  }
 },
 "nbformat": 4,
 "nbformat_minor": 4
}
