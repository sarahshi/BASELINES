{
 "cells": [
  {
   "attachments": {},
   "cell_type": "markdown",
   "metadata": {},
   "source": [
    "# Useful FTIR Functions for Density and Molar Absorptivity\n",
    "\n",
    "- This Jupyter notebook demonstrates the use of useful Python functions for calculating density and molar absorptivity. \n",
    "\n",
    "- The Jupyter notebook and data can be accessed here: https://github.com/SarahShi/PyIRoGlass/blob/main/docs/examples/ftir_functions/. \n",
    "\n",
    "- You need to have the PyIRoGlass PyPi package on your machine once. If you have not done this, please uncomment (remove the #) symbol and run the cell below. "
   ]
  },
  {
   "cell_type": "code",
   "execution_count": null,
   "metadata": {},
   "outputs": [],
   "source": [
    "#!pip install PyIRoGlass"
   ]
  },
  {
   "attachments": {},
   "cell_type": "markdown",
   "metadata": {},
   "source": [
    "# Load Python Packages and Data"
   ]
  },
  {
   "attachments": {},
   "cell_type": "markdown",
   "metadata": {},
   "source": [
    "## Load Python Packages"
   ]
  },
  {
   "cell_type": "code",
   "execution_count": null,
   "metadata": {
    "tags": []
   },
   "outputs": [],
   "source": [
    "# Import packages\n",
    "\n",
    "import os\n",
    "import sys\n",
    "import glob\n",
    "import numpy as np\n",
    "import pandas as pd\n",
    "\n",
    "import PyIRoGlass as pig\n",
    "\n",
    "from IPython.display import Image\n",
    "\n",
    "import matplotlib\n",
    "from matplotlib import pyplot as plt\n",
    "from matplotlib import rc, cm\n",
    "\n",
    "%matplotlib inline\n",
    "%config InlineBackend.figure_format = 'retina'\n",
    "\n",
    "pig.__version__"
   ]
  },
  {
   "attachments": {},
   "cell_type": "markdown",
   "metadata": {},
   "source": [
    "## Set paths to data"
   ]
  },
  {
   "cell_type": "code",
   "execution_count": null,
   "metadata": {
    "tags": []
   },
   "outputs": [],
   "source": [
    "# Change paths to direct to folder with transmission FTIR spectra \n",
    "\n",
    "CHEMTHICK_PATH = 'ChemThick.csv'\n",
    "print(CHEMTHICK_PATH)"
   ]
  },
  {
   "attachments": {},
   "cell_type": "markdown",
   "metadata": {},
   "source": [
    "## Load composition and thickness data\n",
    "\n",
    "The file names from the spectra (what comes before the .CSV) are important when we load in melt compositions and thicknesses. Unique identifiers identify the same samples. Make sure that this ChemThick.CSV file has the same sample names as the spectra you load in. "
   ]
  },
  {
   "cell_type": "code",
   "execution_count": null,
   "metadata": {
    "tags": []
   },
   "outputs": [],
   "source": [
    "loader = pig.SampleDataLoader(chemistry_thickness_path=CHEMTHICK_PATH)\n",
    "chemistry, thickness = loader.load_chemistry_thickness()"
   ]
  },
  {
   "cell_type": "markdown",
   "metadata": {},
   "source": [
    "Display the dataframe of glass compositions"
   ]
  },
  {
   "cell_type": "code",
   "execution_count": null,
   "metadata": {
    "tags": []
   },
   "outputs": [],
   "source": [
    "chemistry"
   ]
  },
  {
   "attachments": {},
   "cell_type": "markdown",
   "metadata": {},
   "source": [
    "We're ready to use the Density_Calculation function now. We input the arguments: \n",
    "\n",
    "- chemistry: Glass composition loaded from ChemThick\n",
    "- T_ROOM: Room temperature at time of FTIR analysis, given the sensitivity of density to T. \n",
    "- P_ROOM: Room pressure at time of FTIR analysis, given the sensitivity of density to P. \n",
    "\n",
    "and output: \n",
    "\n",
    "- mol - dataframe of moles of oxide\n",
    "- density - dataframe of densities"
   ]
  },
  {
   "cell_type": "code",
   "execution_count": null,
   "metadata": {
    "tags": []
   },
   "outputs": [],
   "source": [
    "T_ROOM = 25 # C\n",
    "P_ROOM = 1 # Bar\n",
    "mol, density = pig.calculate_density(chemistry, T_ROOM, P_ROOM)"
   ]
  },
  {
   "cell_type": "code",
   "execution_count": null,
   "metadata": {},
   "outputs": [],
   "source": [
    "mol"
   ]
  },
  {
   "cell_type": "code",
   "execution_count": null,
   "metadata": {},
   "outputs": [],
   "source": [
    "density"
   ]
  },
  {
   "cell_type": "markdown",
   "metadata": {},
   "source": [
    "We're ready to use the Epsilon_Calculation function now. We input the arguments: \n",
    "\n",
    "- chemistry: Glass composition loaded from ChemThick.\n",
    "- T_ROOM: Room temperature at time of FTIR analysis, given the sensitivity of density to T. \n",
    "- P_ROOM: Room pressure at time of FTIR analysis, given the sensitivity of density to P. \n",
    "\n",
    "and output: \n",
    "\n",
    "- epsilon - dataframe of molar absorptivities with their uncertainties."
   ]
  },
  {
   "cell_type": "code",
   "execution_count": null,
   "metadata": {},
   "outputs": [],
   "source": [
    "T_ROOM = 25 # C\n",
    "P_ROOM = 1 # Bar\n",
    "epsilon = pig.calculate_epsilon(chemistry, T_ROOM, P_ROOM)\n",
    "epsilon"
   ]
  },
  {
   "attachments": {},
   "cell_type": "markdown",
   "metadata": {},
   "source": [
    "There are a few things to note. Tau references the $\\mathrm{(Si^{4+}+Al^{3+})/Total Cations}$ value and eta references the $\\mathrm{(Na^{+}/(Na^{+}+Ca^{2+}))}$ value. Each column with the prefix epsilon represents the mean molar absorptivity, sigma_epsilon represents the uncertainty on the molar absorptivity. "
   ]
  },
  {
   "cell_type": "markdown",
   "metadata": {},
   "source": []
  }
 ],
 "metadata": {
  "kernelspec": {
   "display_name": "Python 3 (ipykernel)",
   "language": "python",
   "name": "python3"
  },
  "language_info": {
   "codemirror_mode": {
    "name": "ipython",
    "version": 3
   },
   "file_extension": ".py",
   "mimetype": "text/x-python",
   "name": "python",
   "nbconvert_exporter": "python",
   "pygments_lexer": "ipython3",
   "version": "3.9.18"
  }
 },
 "nbformat": 4,
 "nbformat_minor": 4
}
