{
 "cells": [
  {
   "attachments": {},
   "cell_type": "markdown",
   "metadata": {},
   "source": [
    "# Useful FTIR Functions for Density and Molar Absorptivity\n",
    "\n",
    "- This Jupyter notebook demonstrates the use of useful Python functions for calculating density and molar absorptivity. \n",
    "\n",
    "- The Jupyter notebook and data can be accessed here: https://github.com/SarahShi/PyIRoGlass/blob/main/docs/examples/ftir_functions/. \n",
    "\n",
    "- You need to have the PyIRoGlass PyPi package on your machine once. If you have not done this, please uncomment (remove the #) symbol and run the cell below. "
   ]
  },
  {
   "cell_type": "code",
   "execution_count": 1,
   "metadata": {},
   "outputs": [],
   "source": [
    "#!pip install PyIRoGlass"
   ]
  },
  {
   "attachments": {},
   "cell_type": "markdown",
   "metadata": {},
   "source": [
    "# Load Python Packages and Data"
   ]
  },
  {
   "attachments": {},
   "cell_type": "markdown",
   "metadata": {},
   "source": [
    "## Load Python Packages"
   ]
  },
  {
   "cell_type": "code",
   "execution_count": 2,
   "metadata": {
    "tags": []
   },
   "outputs": [],
   "source": [
    "# Import packages\n",
    "\n",
    "import os\n",
    "import sys\n",
    "import glob\n",
    "import numpy as np\n",
    "import pandas as pd\n",
    "import mc3\n",
    "\n",
    "import PyIRoGlass as pig\n",
    "\n",
    "from IPython.display import Image\n",
    "\n",
    "import matplotlib\n",
    "from matplotlib import pyplot as plt\n",
    "from matplotlib import rc, cm\n",
    "\n",
    "%matplotlib inline\n",
    "%config InlineBackend.figure_format = 'retina'"
   ]
  },
  {
   "attachments": {},
   "cell_type": "markdown",
   "metadata": {},
   "source": [
    "## Set paths to data"
   ]
  },
  {
   "cell_type": "code",
   "execution_count": 3,
   "metadata": {
    "tags": []
   },
   "outputs": [
    {
     "name": "stdout",
     "output_type": "stream",
     "text": [
      "ChemThick.csv\n"
     ]
    }
   ],
   "source": [
    "# Change paths to direct to folder with transmission FTIR spectra \n",
    "\n",
    "CHEMTHICK_PATH = 'ChemThick.csv'\n",
    "print(CHEMTHICK_PATH)"
   ]
  },
  {
   "attachments": {},
   "cell_type": "markdown",
   "metadata": {},
   "source": [
    "## Load composition and thickness data\n",
    "\n",
    "The file names from the spectra (what comes before the .CSV) are important when we load in melt compositions and thicknesses. Unique identifiers identify the same samples. Make sure that this ChemThick.CSV file has the same sample names as the spectra you load in. "
   ]
  },
  {
   "cell_type": "code",
   "execution_count": 4,
   "metadata": {
    "tags": []
   },
   "outputs": [],
   "source": [
    "MICOMP, THICKNESS = pig.Load_ChemistryThickness(CHEMTHICK_PATH)"
   ]
  },
  {
   "cell_type": "markdown",
   "metadata": {},
   "source": [
    "Display the dataframe of glass compositions"
   ]
  },
  {
   "cell_type": "code",
   "execution_count": 5,
   "metadata": {
    "tags": []
   },
   "outputs": [
    {
     "data": {
      "text/html": [
       "<div>\n",
       "<style scoped>\n",
       "    .dataframe tbody tr th:only-of-type {\n",
       "        vertical-align: middle;\n",
       "    }\n",
       "\n",
       "    .dataframe tbody tr th {\n",
       "        vertical-align: top;\n",
       "    }\n",
       "\n",
       "    .dataframe thead th {\n",
       "        text-align: right;\n",
       "    }\n",
       "</style>\n",
       "<table border=\"1\" class=\"dataframe\">\n",
       "  <thead>\n",
       "    <tr style=\"text-align: right;\">\n",
       "      <th></th>\n",
       "      <th>SiO2</th>\n",
       "      <th>TiO2</th>\n",
       "      <th>Al2O3</th>\n",
       "      <th>Fe2O3</th>\n",
       "      <th>FeO</th>\n",
       "      <th>MnO</th>\n",
       "      <th>MgO</th>\n",
       "      <th>CaO</th>\n",
       "      <th>Na2O</th>\n",
       "      <th>K2O</th>\n",
       "      <th>P2O5</th>\n",
       "    </tr>\n",
       "    <tr>\n",
       "      <th>Sample</th>\n",
       "      <th></th>\n",
       "      <th></th>\n",
       "      <th></th>\n",
       "      <th></th>\n",
       "      <th></th>\n",
       "      <th></th>\n",
       "      <th></th>\n",
       "      <th></th>\n",
       "      <th></th>\n",
       "      <th></th>\n",
       "      <th></th>\n",
       "    </tr>\n",
       "  </thead>\n",
       "  <tbody>\n",
       "    <tr>\n",
       "      <th>AC4_OL49_021920_30x30_H2O_a</th>\n",
       "      <td>52.34</td>\n",
       "      <td>1.04</td>\n",
       "      <td>17.92</td>\n",
       "      <td>1.93</td>\n",
       "      <td>7.03</td>\n",
       "      <td>0.20</td>\n",
       "      <td>3.63</td>\n",
       "      <td>7.72</td>\n",
       "      <td>4.25</td>\n",
       "      <td>0.78</td>\n",
       "      <td>0.14</td>\n",
       "    </tr>\n",
       "    <tr>\n",
       "      <th>AC4_OL53_101220_256s_30x30_a</th>\n",
       "      <td>47.95</td>\n",
       "      <td>1.00</td>\n",
       "      <td>18.88</td>\n",
       "      <td>2.04</td>\n",
       "      <td>7.45</td>\n",
       "      <td>0.19</td>\n",
       "      <td>4.34</td>\n",
       "      <td>9.84</td>\n",
       "      <td>3.47</td>\n",
       "      <td>0.67</td>\n",
       "      <td>0.11</td>\n",
       "    </tr>\n",
       "    <tr>\n",
       "      <th>STD_D1010_012821_256s_100x100_a</th>\n",
       "      <td>51.41</td>\n",
       "      <td>1.26</td>\n",
       "      <td>16.58</td>\n",
       "      <td>0.00</td>\n",
       "      <td>7.58</td>\n",
       "      <td>0.00</td>\n",
       "      <td>7.57</td>\n",
       "      <td>10.98</td>\n",
       "      <td>3.01</td>\n",
       "      <td>0.37</td>\n",
       "      <td>0.18</td>\n",
       "    </tr>\n",
       "  </tbody>\n",
       "</table>\n",
       "</div>"
      ],
      "text/plain": [
       "                                  SiO2  TiO2  Al2O3  Fe2O3   FeO   MnO   MgO  \\\n",
       "Sample                                                                         \n",
       "AC4_OL49_021920_30x30_H2O_a      52.34  1.04  17.92   1.93  7.03  0.20  3.63   \n",
       "AC4_OL53_101220_256s_30x30_a     47.95  1.00  18.88   2.04  7.45  0.19  4.34   \n",
       "STD_D1010_012821_256s_100x100_a  51.41  1.26  16.58   0.00  7.58  0.00  7.57   \n",
       "\n",
       "                                   CaO  Na2O   K2O  P2O5  \n",
       "Sample                                                    \n",
       "AC4_OL49_021920_30x30_H2O_a       7.72  4.25  0.78  0.14  \n",
       "AC4_OL53_101220_256s_30x30_a      9.84  3.47  0.67  0.11  \n",
       "STD_D1010_012821_256s_100x100_a  10.98  3.01  0.37  0.18  "
      ]
     },
     "execution_count": 5,
     "metadata": {},
     "output_type": "execute_result"
    }
   ],
   "source": [
    "MICOMP"
   ]
  },
  {
   "attachments": {},
   "cell_type": "markdown",
   "metadata": {},
   "source": [
    "We're ready to use the Density_Calculation function now. We input the arguments: \n",
    "\n",
    "- MICOMP: Glass composition loaded from ChemThick\n",
    "- T_ROOM: Room temperature at time of FTIR analysis, given the sensitivity of density to T. \n",
    "- P_ROOM: Room pressure at time of FTIR analysis, given the sensitivity of density to P. \n",
    "\n",
    "and output: \n",
    "\n",
    "- mol - dataframe of moles of oxide\n",
    "- density - dataframe of densities"
   ]
  },
  {
   "cell_type": "code",
   "execution_count": 6,
   "metadata": {
    "tags": []
   },
   "outputs": [],
   "source": [
    "T_ROOM = 25 # C\n",
    "P_ROOM = 1 # Bar\n",
    "mol, density = pig.Density_Calculation(MICOMP, T_ROOM, P_ROOM)"
   ]
  },
  {
   "cell_type": "code",
   "execution_count": 7,
   "metadata": {},
   "outputs": [
    {
     "data": {
      "text/html": [
       "<div>\n",
       "<style scoped>\n",
       "    .dataframe tbody tr th:only-of-type {\n",
       "        vertical-align: middle;\n",
       "    }\n",
       "\n",
       "    .dataframe tbody tr th {\n",
       "        vertical-align: top;\n",
       "    }\n",
       "\n",
       "    .dataframe thead th {\n",
       "        text-align: right;\n",
       "    }\n",
       "</style>\n",
       "<table border=\"1\" class=\"dataframe\">\n",
       "  <thead>\n",
       "    <tr style=\"text-align: right;\">\n",
       "      <th></th>\n",
       "      <th>SiO2</th>\n",
       "      <th>TiO2</th>\n",
       "      <th>Al2O3</th>\n",
       "      <th>Fe2O3</th>\n",
       "      <th>FeO</th>\n",
       "      <th>MnO</th>\n",
       "      <th>MgO</th>\n",
       "      <th>CaO</th>\n",
       "      <th>Na2O</th>\n",
       "      <th>K2O</th>\n",
       "      <th>P2O5</th>\n",
       "    </tr>\n",
       "    <tr>\n",
       "      <th>Sample</th>\n",
       "      <th></th>\n",
       "      <th></th>\n",
       "      <th></th>\n",
       "      <th></th>\n",
       "      <th></th>\n",
       "      <th></th>\n",
       "      <th></th>\n",
       "      <th></th>\n",
       "      <th></th>\n",
       "      <th></th>\n",
       "      <th></th>\n",
       "    </tr>\n",
       "  </thead>\n",
       "  <tbody>\n",
       "    <tr>\n",
       "      <th>AC4_OL49_021920_30x30_H2O_a</th>\n",
       "      <td>0.871172</td>\n",
       "      <td>0.013022</td>\n",
       "      <td>0.175755</td>\n",
       "      <td>0.012086</td>\n",
       "      <td>0.097851</td>\n",
       "      <td>0.002819</td>\n",
       "      <td>0.090065</td>\n",
       "      <td>0.137667</td>\n",
       "      <td>0.068572</td>\n",
       "      <td>0.008280</td>\n",
       "      <td>0.000986</td>\n",
       "    </tr>\n",
       "    <tr>\n",
       "      <th>AC4_OL53_101220_256s_30x30_a</th>\n",
       "      <td>0.798103</td>\n",
       "      <td>0.012521</td>\n",
       "      <td>0.185171</td>\n",
       "      <td>0.012775</td>\n",
       "      <td>0.103697</td>\n",
       "      <td>0.002678</td>\n",
       "      <td>0.107681</td>\n",
       "      <td>0.175472</td>\n",
       "      <td>0.055987</td>\n",
       "      <td>0.007113</td>\n",
       "      <td>0.000775</td>\n",
       "    </tr>\n",
       "    <tr>\n",
       "      <th>STD_D1010_012821_256s_100x100_a</th>\n",
       "      <td>0.855692</td>\n",
       "      <td>0.015776</td>\n",
       "      <td>0.162613</td>\n",
       "      <td>0.000000</td>\n",
       "      <td>0.105506</td>\n",
       "      <td>0.000000</td>\n",
       "      <td>0.187821</td>\n",
       "      <td>0.195801</td>\n",
       "      <td>0.048565</td>\n",
       "      <td>0.003928</td>\n",
       "      <td>0.001268</td>\n",
       "    </tr>\n",
       "  </tbody>\n",
       "</table>\n",
       "</div>"
      ],
      "text/plain": [
       "                                     SiO2      TiO2     Al2O3     Fe2O3  \\\n",
       "Sample                                                                    \n",
       "AC4_OL49_021920_30x30_H2O_a      0.871172  0.013022  0.175755  0.012086   \n",
       "AC4_OL53_101220_256s_30x30_a     0.798103  0.012521  0.185171  0.012775   \n",
       "STD_D1010_012821_256s_100x100_a  0.855692  0.015776  0.162613  0.000000   \n",
       "\n",
       "                                      FeO       MnO       MgO       CaO  \\\n",
       "Sample                                                                    \n",
       "AC4_OL49_021920_30x30_H2O_a      0.097851  0.002819  0.090065  0.137667   \n",
       "AC4_OL53_101220_256s_30x30_a     0.103697  0.002678  0.107681  0.175472   \n",
       "STD_D1010_012821_256s_100x100_a  0.105506  0.000000  0.187821  0.195801   \n",
       "\n",
       "                                     Na2O       K2O      P2O5  \n",
       "Sample                                                         \n",
       "AC4_OL49_021920_30x30_H2O_a      0.068572  0.008280  0.000986  \n",
       "AC4_OL53_101220_256s_30x30_a     0.055987  0.007113  0.000775  \n",
       "STD_D1010_012821_256s_100x100_a  0.048565  0.003928  0.001268  "
      ]
     },
     "execution_count": 7,
     "metadata": {},
     "output_type": "execute_result"
    }
   ],
   "source": [
    "mol"
   ]
  },
  {
   "cell_type": "code",
   "execution_count": 8,
   "metadata": {},
   "outputs": [
    {
     "data": {
      "text/plain": [
       "Sample\n",
       "AC4_OL49_021920_30x30_H2O_a        2748.987195\n",
       "AC4_OL53_101220_256s_30x30_a       2820.556711\n",
       "STD_D1010_012821_256s_100x100_a    2831.885143\n",
       "dtype: float64"
      ]
     },
     "execution_count": 8,
     "metadata": {},
     "output_type": "execute_result"
    }
   ],
   "source": [
    "density"
   ]
  },
  {
   "cell_type": "markdown",
   "metadata": {},
   "source": [
    "We're ready to use the Epsilon_Calculation function now. We input the arguments: \n",
    "\n",
    "- MICOMP: Glass composition loaded from ChemThick.\n",
    "- T_ROOM: Room temperature at time of FTIR analysis, given the sensitivity of density to T. \n",
    "- P_ROOM: Room pressure at time of FTIR analysis, given the sensitivity of density to P. \n",
    "\n",
    "and output: \n",
    "\n",
    "- epsilon - dataframe of molar absorptivities with their uncertainties."
   ]
  },
  {
   "cell_type": "code",
   "execution_count": 9,
   "metadata": {},
   "outputs": [
    {
     "data": {
      "text/html": [
       "<div>\n",
       "<style scoped>\n",
       "    .dataframe tbody tr th:only-of-type {\n",
       "        vertical-align: middle;\n",
       "    }\n",
       "\n",
       "    .dataframe tbody tr th {\n",
       "        vertical-align: top;\n",
       "    }\n",
       "\n",
       "    .dataframe thead th {\n",
       "        text-align: right;\n",
       "    }\n",
       "</style>\n",
       "<table border=\"1\" class=\"dataframe\">\n",
       "  <thead>\n",
       "    <tr style=\"text-align: right;\">\n",
       "      <th></th>\n",
       "      <th>Tau</th>\n",
       "      <th>Na/Na+Ca</th>\n",
       "      <th>epsilon_H2OT_3550</th>\n",
       "      <th>sigma_epsilon_H2OT_3550</th>\n",
       "      <th>epsilon_H2Om_1635</th>\n",
       "      <th>sigma_epsilon_H2Om_1635</th>\n",
       "      <th>epsilon_CO2</th>\n",
       "      <th>sigma_epsilon_CO2</th>\n",
       "      <th>epsilon_H2Om_5200</th>\n",
       "      <th>sigma_epsilon_H2Om_5200</th>\n",
       "      <th>epsilon_OH_4500</th>\n",
       "      <th>sigma_epsilon_OH_4500</th>\n",
       "    </tr>\n",
       "  </thead>\n",
       "  <tbody>\n",
       "    <tr>\n",
       "      <th>AC4_OL49_021920_30x30_H2O_a</th>\n",
       "      <td>0.705990</td>\n",
       "      <td>0.499048</td>\n",
       "      <td>66.111161</td>\n",
       "      <td>7.524313</td>\n",
       "      <td>37.322108</td>\n",
       "      <td>8.645058</td>\n",
       "      <td>263.432023</td>\n",
       "      <td>20.347638</td>\n",
       "      <td>1.009457</td>\n",
       "      <td>0.300824</td>\n",
       "      <td>0.861196</td>\n",
       "      <td>0.279541</td>\n",
       "    </tr>\n",
       "    <tr>\n",
       "      <th>AC4_OL53_101220_256s_30x30_a</th>\n",
       "      <td>0.682895</td>\n",
       "      <td>0.389547</td>\n",
       "      <td>64.462869</td>\n",
       "      <td>7.401240</td>\n",
       "      <td>34.452486</td>\n",
       "      <td>8.504267</td>\n",
       "      <td>302.327096</td>\n",
       "      <td>18.068230</td>\n",
       "      <td>0.901474</td>\n",
       "      <td>0.295851</td>\n",
       "      <td>0.779611</td>\n",
       "      <td>0.274894</td>\n",
       "    </tr>\n",
       "    <tr>\n",
       "      <th>STD_D1010_012821_256s_100x100_a</th>\n",
       "      <td>0.658501</td>\n",
       "      <td>0.331580</td>\n",
       "      <td>62.721880</td>\n",
       "      <td>7.272084</td>\n",
       "      <td>31.421482</td>\n",
       "      <td>8.354347</td>\n",
       "      <td>322.917560</td>\n",
       "      <td>16.791353</td>\n",
       "      <td>0.787418</td>\n",
       "      <td>0.290534</td>\n",
       "      <td>0.693438</td>\n",
       "      <td>0.269975</td>\n",
       "    </tr>\n",
       "  </tbody>\n",
       "</table>\n",
       "</div>"
      ],
      "text/plain": [
       "                                      Tau  Na/Na+Ca  epsilon_H2OT_3550  \\\n",
       "AC4_OL49_021920_30x30_H2O_a      0.705990  0.499048          66.111161   \n",
       "AC4_OL53_101220_256s_30x30_a     0.682895  0.389547          64.462869   \n",
       "STD_D1010_012821_256s_100x100_a  0.658501  0.331580          62.721880   \n",
       "\n",
       "                                 sigma_epsilon_H2OT_3550  epsilon_H2Om_1635  \\\n",
       "AC4_OL49_021920_30x30_H2O_a                     7.524313          37.322108   \n",
       "AC4_OL53_101220_256s_30x30_a                    7.401240          34.452486   \n",
       "STD_D1010_012821_256s_100x100_a                 7.272084          31.421482   \n",
       "\n",
       "                                 sigma_epsilon_H2Om_1635  epsilon_CO2  \\\n",
       "AC4_OL49_021920_30x30_H2O_a                     8.645058   263.432023   \n",
       "AC4_OL53_101220_256s_30x30_a                    8.504267   302.327096   \n",
       "STD_D1010_012821_256s_100x100_a                 8.354347   322.917560   \n",
       "\n",
       "                                 sigma_epsilon_CO2  epsilon_H2Om_5200  \\\n",
       "AC4_OL49_021920_30x30_H2O_a              20.347638           1.009457   \n",
       "AC4_OL53_101220_256s_30x30_a             18.068230           0.901474   \n",
       "STD_D1010_012821_256s_100x100_a          16.791353           0.787418   \n",
       "\n",
       "                                 sigma_epsilon_H2Om_5200  epsilon_OH_4500  \\\n",
       "AC4_OL49_021920_30x30_H2O_a                     0.300824         0.861196   \n",
       "AC4_OL53_101220_256s_30x30_a                    0.295851         0.779611   \n",
       "STD_D1010_012821_256s_100x100_a                 0.290534         0.693438   \n",
       "\n",
       "                                 sigma_epsilon_OH_4500  \n",
       "AC4_OL49_021920_30x30_H2O_a                   0.279541  \n",
       "AC4_OL53_101220_256s_30x30_a                  0.274894  \n",
       "STD_D1010_012821_256s_100x100_a               0.269975  "
      ]
     },
     "execution_count": 9,
     "metadata": {},
     "output_type": "execute_result"
    }
   ],
   "source": [
    "T_ROOM = 25 # C\n",
    "P_ROOM = 1 # Bar\n",
    "epsilon = pig.Epsilon_Calculation(MICOMP, T_ROOM, P_ROOM)\n",
    "epsilon"
   ]
  },
  {
   "attachments": {},
   "cell_type": "markdown",
   "metadata": {},
   "source": [
    "There are a few things to note. Tau references the $\\mathrm{(Si^{4+}+Al^{3+})/Total Cations}$ value and eta references the $\\mathrm{(Na^{+}/(Na^{+}+Ca^{2+}))}$ value. Each column with the prefix epsilon represents the mean molar absorptivity, sigma_epsilon represents the uncertainty on the molar absorptivity. "
   ]
  },
  {
   "cell_type": "markdown",
   "metadata": {},
   "source": []
  }
 ],
 "metadata": {
  "kernelspec": {
   "display_name": "Python 3 (ipykernel)",
   "language": "python",
   "name": "python3"
  },
  "language_info": {
   "codemirror_mode": {
    "name": "ipython",
    "version": 3
   },
   "file_extension": ".py",
   "mimetype": "text/x-python",
   "name": "python",
   "nbconvert_exporter": "python",
   "pygments_lexer": "ipython3",
   "version": "3.9.16"
  }
 },
 "nbformat": 4,
 "nbformat_minor": 4
}
