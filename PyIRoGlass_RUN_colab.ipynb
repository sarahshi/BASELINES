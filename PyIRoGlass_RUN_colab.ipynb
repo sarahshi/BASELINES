{
 "cells": [
  {
   "cell_type": "code",
   "execution_count": null,
   "metadata": {},
   "outputs": [],
   "source": [
    "# %% -*- coding: utf-8 -*-\n",
    "\n",
    "\"\"\" Created on June 12, 2021 // @author: Sarah Shi \"\"\"\n",
    "\n",
    "# Import and load Python packages\n",
    "import os\n",
    "import glob\n",
    "import numpy as np\n",
    "import pandas as pd\n",
    "!pip install PyIRoGlass\n",
    "import PyIRoGlass as pig\n",
    "\n",
    "import matplotlib\n",
    "from matplotlib import pyplot as plt\n",
    "from matplotlib import rc, cm\n",
    "\n",
    "from google.colab import files\n",
    "\n",
    "%matplotlib inline\n",
    "%config InlineBackend.figure_format = 'retina'\n",
    "\n",
    "# Load sample FTIR spectra and chemistry/thickness files for reference. \n",
    "# For downloading the file\n",
    "if not os.path.exists('COLAB_BINDER.zip'):\n",
    "    !wget https://github.com/sarahshi/PyIRoGlass/raw/main/Inputs/COLAB_BINDER.zip\n",
    "\n",
    "# For unzipping the file\n",
    "if not os.path.exists('COLAB_BINDER'):\n",
    "    !unzip COLAB_BINDER.zip\n"
   ]
  },
  {
   "cell_type": "markdown",
   "metadata": {},
   "source": [
    "We've loaded in sample data, with transmission and reflectance FTIR, from the GitHub repository for data format referencing. Examples workflows working with these spectra can be found on the [ReadTheDocs](https://pyiroglass.readthedocs.io/en/latest/). \n",
    "\n",
    "The Google Colab implementation here aims to get your transmission FTIR spectra processed. We remove degrees of freedom to simplify the process. \n",
    "\n",
    "The files necessary include all of your transmission FTIR spectra, as well as 'ChemThick.csv' file, containing all chemistry and thickness data. Find an example [here](https://github.com/sarahshi/PyIRoGlass/blob/main/Inputs/COLAB_BINDER/Colab_Binder_ChemThick.csv). Ensure that all of your transmission FTIR spectra names (before the .csv) match up identically with the sample names in the chemistry and thickness file. This is necessary to ensure that the algorithm can match up samples. "
   ]
  },
  {
   "cell_type": "markdown",
   "metadata": {},
   "source": [
    "# Load transmission FTIR spectra here: "
   ]
  },
  {
   "cell_type": "code",
   "execution_count": null,
   "metadata": {},
   "outputs": [],
   "source": [
    "# Specify the directory where you want to save the uploaded files\n",
    "desired_spectra_directory = \"/content/YOUR_DATA/TransmissionSpectra/\"\n",
    "\n",
    "# Create the directory if it doesn't exist\n",
    "if not os.path.exists(desired_spectra_directory):\n",
    "    os.makedirs(desired_spectra_directory)\n",
    "\n",
    "# Change the current working directory\n",
    "os.chdir(desired_spectra_directory)\n",
    "\n",
    "# Upload the files\n",
    "uploadediles = files.upload()\n"
   ]
  },
  {
   "cell_type": "markdown",
   "metadata": {},
   "source": [
    "# Load ChemThick.csv here:"
   ]
  },
  {
   "cell_type": "code",
   "execution_count": null,
   "metadata": {},
   "outputs": [],
   "source": [
    "# Specify the directory where you want to save the uploaded files\n",
    "desired_chemthick_directory = \"/content/YOUR_DATA/\"\n",
    "\n",
    "# Change the current working directory\n",
    "os.chdir(desired_chemthick_directory)\n",
    "\n",
    "# Upload the files\n",
    "uploadediles = files.upload()\n"
   ]
  },
  {
   "cell_type": "markdown",
   "metadata": {},
   "source": [
    "# Run PyIRoGlass here:"
   ]
  },
  {
   "cell_type": "code",
   "execution_count": null,
   "metadata": {},
   "outputs": [],
   "source": [
    "# Change back to the original directory (e.g., '/content')\n",
    "os.chdir(\"/content/YOUR_DATA/\")\n",
    "\n",
    "# Identify all transmission spectra CSVs\n",
    "FILES = sorted(glob.glob('TransmissionSpectra/' + '*'))\n",
    "\n",
    "# Load chemistry and thickness file called ChemThick.csv. If you name the file something else, modify it here. \n",
    "MICOMP, THICKNESS = pig.Load_ChemistryThickness('ChemThick.csv')\n",
    "\n",
    "# Load a list of files and a dictionary of transmission FTIR spectra from the files identified earlier. \n",
    "DF_FILES, DF_DICT = pig.Load_SampleCSV(FILES, wn_high = 5500, wn_low = 1000)\n",
    "\n",
    "# Set the output path name desired for your sample. We will call our output 'RESULTS/'. \n",
    "OUTPUT = 'RESULTS'\n",
    "if not os.path.exists(OUTPUT):\n",
    "    os.makedirs(OUTPUT)\n",
    "\n",
    "# Run PyIRoGlass! \n",
    "DF_OUTPUT, FAILURES = pig.Run_All_Spectra(DF_DICT, OUTPUT)\n",
    "\n",
    "# Save the dataframe outputs from PyIRoGlass. \n",
    "DF_OUTPUT.to_csv(OUTPUT + 'DF.csv')\n",
    "\n",
    "# Indicate your temperature and pressure of analysis. These are the defaults at LDEO. \n",
    "T_ROOM = 25 # C\n",
    "P_ROOM = 1 # Bar\n",
    "\n",
    "# Run the concentration calculation after determining all peak heights. \n",
    "N = 500000\n",
    "DENSITY_EPSILON, MEGA_SPREADSHEET = pig.Concentration_Output(DF_OUTPUT, N, THICKNESS, MICOMP, T_ROOM, P_ROOM)\n",
    "MEGA_SPREADSHEET.to_csv(OUTPUT + 'H2OCO2.csv')\n",
    "DENSITY_EPSILON.to_csv(OUTPUT + 'DensityEpsilon.csv')"
   ]
  },
  {
   "cell_type": "markdown",
   "metadata": {},
   "source": [
    "# Display results here: "
   ]
  },
  {
   "cell_type": "code",
   "execution_count": null,
   "metadata": {},
   "outputs": [],
   "source": [
    "display(DF_OUTPUT)"
   ]
  },
  {
   "cell_type": "code",
   "execution_count": null,
   "metadata": {},
   "outputs": [],
   "source": [
    "display(MEGA_SPREADSHEET)"
   ]
  },
  {
   "cell_type": "code",
   "execution_count": null,
   "metadata": {},
   "outputs": [],
   "source": [
    "display(DENSITY_EPSILON)"
   ]
  }
 ],
 "metadata": {
  "language_info": {
   "name": "python"
  },
  "orig_nbformat": 4
 },
 "nbformat": 4,
 "nbformat_minor": 2
}
