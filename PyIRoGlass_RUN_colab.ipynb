{
 "cells": [
  {
   "cell_type": "code",
   "execution_count": null,
   "metadata": {},
   "outputs": [],
   "source": [
    "# %% -*- coding: utf-8 -*-\n",
    "\"\"\" Created on March 24, 2023 // @author: Sarah Shi \"\"\"\n",
    "\n",
    "# Import packages\n",
    "\n",
    "import os\n",
    "import sys\n",
    "import glob\n",
    "import numpy as np\n",
    "import pandas as pd\n",
    "\n",
    "!pip install PyIRoGlass \n",
    "import PyIRoGlass as pig\n",
    "\n",
    "import matplotlib\n",
    "from matplotlib import pyplot as plt\n",
    "from matplotlib import rc, cm\n",
    "\n",
    "%matplotlib inline\n",
    "%config InlineBackend.figure_format = 'retina'\n",
    "\n",
    "%cd /content/\n",
    "!wget -nc https://github.com/sarahshi/PyIRoGlass/blob/main/Inputs/COLAB_BINDER.zip?raw=true\n",
    "!unzip 'COLAB_BINDER.zip?raw=true' -d 'COLAB_BINDER'\n"
   ]
  },
  {
   "cell_type": "code",
   "execution_count": null,
   "metadata": {},
   "outputs": [],
   "source": [
    "\n",
    "# Get working paths \n",
    "path_input = os.getcwd() + '/Inputs/COLAB_BINDER/'\n"
   ]
  },
  {
   "cell_type": "code",
   "execution_count": null,
   "metadata": {},
   "outputs": [],
   "source": [
    "\n",
    "# Change paths to direct to folder with reflectance FTIR spectra\n",
    "REF_PATH_OL = path_input + 'REF/OL/'\n",
    "REF_OL_FILES = sorted(glob.glob(REF_PATH_OL + \"*\"))\n",
    "\n",
    "REF_OL_DFS_FILES, REF_OL_DFS_DICT = pig.Load_SampleCSV(REF_OL_FILES, wn_high = 2700, wn_low = 2100)\n",
    "\n",
    "# Use DHZ parameterization of olivine reflectance index. \n",
    "n_ol = pig.Reflectance_Index(0.72)\n",
    "\n",
    "REF_FUEGO = pig.Thickness_Processing(REF_OL_DFS_DICT, n = n_ol, wn_high = 2700, wn_low = 2100, remove_baseline = True, plotting = False, phaseol = True)\n",
    "\n",
    "REF_FUEGO\n"
   ]
  },
  {
   "cell_type": "code",
   "execution_count": null,
   "metadata": {},
   "outputs": [],
   "source": [
    "\n",
    "REF_PATH_GL = path_input + 'REF/GL/'\n",
    "REF_GL_FILES = sorted(glob.glob(REF_PATH_GL + \"*\"))\n",
    "\n",
    "REF_GL_DFS_FILES, REF_GL_DFS_DICT = pig.Load_SampleCSV(REF_GL_FILES, wn_high = 2850, wn_low = 1700)\n",
    "\n",
    "# n=1.546 in the range of 2000-2700 cm^-1 following Nichols and Wysoczanski, 2007 for basaltic glass\n",
    "n_gl = 1.546\n",
    "\n",
    "REF_GLASS = pig.Thickness_Processing(REF_GL_DFS_DICT, n = n_gl, wn_high = 2850, wn_low = 1700, remove_baseline = True, plotting = False, phaseol = False)\n",
    "\n",
    "REF_GLASS\n"
   ]
  },
  {
   "cell_type": "code",
   "execution_count": null,
   "metadata": {},
   "outputs": [],
   "source": [
    "\n",
    "# Change paths to direct to folder with transmission FTIR spectra \n",
    "TRANS_PATHS = path_input + 'TRANS/'\n",
    "TRANS_FILES = sorted(glob.glob(TRANS_PATHS + \"*\"))\n",
    "\n",
    "# Put ChemThick file in Inputs. Direct to what your ChemThick file is called. \n",
    "CHEMTHICK_PATH = path_input + 'Colab_Binder_ChemThick.csv'\n",
    "\n",
    "# Change to be what you want the prefix of your output files to be. \n",
    "OUTPUT_PATH = 'RESULTS'\n",
    "\n",
    "\n",
    "MICOMP, THICKNESS = pig.Load_ChemistryThickness(CHEMTHICK_PATH)\n",
    "\n",
    "DFS_FILES, DFS_DICT = pig.Load_SampleCSV(TRANS_FILES, wn_high = 5500, wn_low = 1000)\n",
    "DF_OUTPUT, FAILURES = pig.Run_All_Spectra(DFS_DICT, OUTPUT_PATH)\n",
    "DF_OUTPUT.to_csv('TRANS_DF.csv')\n",
    "\n",
    "T_ROOM = 25 # C\n",
    "P_ROOM = 1 # Bar\n",
    "\n",
    "N = 500000\n",
    "DENSITY_EPSILON, MEGA_SPREADSHEET = pig.Concentration_Output(DF_OUTPUT, N, THICKNESS, MICOMP, T_ROOM, P_ROOM)\n",
    "MEGA_SPREADSHEET.to_csv('TRANS_H2OCO2.csv')\n",
    "DENSITY_EPSILON.to_csv('TRANS_DensityEpsilon.csv')\n",
    "MEGA_SPREADSHEET\n"
   ]
  }
 ],
 "metadata": {
  "language_info": {
   "name": "python"
  },
  "orig_nbformat": 4
 },
 "nbformat": 4,
 "nbformat_minor": 2
}
