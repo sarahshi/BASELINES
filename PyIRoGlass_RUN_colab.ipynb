{
 "cells": [
  {
   "attachments": {},
   "cell_type": "markdown",
   "metadata": {},
   "source": [
    "# PyIRoGlass Google Colab\n",
    "\n",
    "This notebook aims to make running PyIRoGlass possible for all. Please start by running the first cell by clicking the play button on the top left, or shift+enter. This initializes Google Colab, pip installs PyIRoGlass, and downloads some sample spectra and chemistry and thickness spreadsheets from GitHub. \n",
    "\n",
    "To load your own spectra, prepare data inputs of your spectra (.CSV) and a spreadsheet called 'ChemThick.CSV' with your chemistry and thickness values. See an example of this file here: https://github.com/sarahshi/PyIRoGlass/blob/main/Inputs/COLAB_BINDER/Colab_Binder_ChemThick.csv. You must make sure that the names of your spectra (everything before the .CSV) must match the names in the Sample column of 'ChemThick.csv'. \n",
    "\n",
    "This code allows for FTIR spectra to be batch processed by simply uploading these files onto Google Colab. "
   ]
  },
  {
   "cell_type": "code",
   "execution_count": null,
   "metadata": {},
   "outputs": [],
   "source": [
    "# %% -*- coding: utf-8 -*-\n",
    "\"\"\" Created on March 24, 2023 // @author: Sarah Shi \"\"\"\n",
    "\n",
    "# Import packages\n",
    "\n",
    "import os\n",
    "import sys\n",
    "import glob\n",
    "import numpy as np\n",
    "import pandas as pd\n",
    "\n",
    "!pip install PyIRoGlass \n",
    "import PyIRoGlass as pig\n",
    "\n",
    "import matplotlib\n",
    "from matplotlib import pyplot as plt\n",
    "from matplotlib import rc, cm\n",
    "\n",
    "%matplotlib inline\n",
    "%config InlineBackend.figure_format = 'retina'\n",
    "\n",
    "%cd /content/\n",
    "!wget -nc https://github.com/sarahshi/PyIRoGlass/blob/main/Inputs/COLAB_BINDER.zip?raw=true\n",
    "if os.path.exists('COLAB_BINDER')== False:\n",
    "  !unzip 'COLAB_BINDER.zip?raw=true'\n",
    "\n",
    "if os.path.exists('YOUR_SPECTRA')== False:\n",
    "  !mkdir YOUR_SPECTRA\n",
    "%cd YOUR_SPECTRA/\n",
    "if os.path.exists('TRANSMISSION')== False:\n",
    "  !mkdir TRANSMISSION\n"
   ]
  },
  {
   "attachments": {},
   "cell_type": "markdown",
   "metadata": {},
   "source": [
    "# Load your spectra\n",
    "\n",
    "Click the orange folder button on the upper left corner of Google Colab. The files available for you should be visible. Click the refresh button (below 'Files' and the second button from the left with a clockwise arrow) if nothing is showing up. \n",
    "\n",
    "You should see the directory 'YOUR_SPECTRA', with a subdirectory 'TRANS' (for transmission FTIR spectra). Click on 'YOUR_SPECTRA', then 'TRANS'. Hover over the right side of 'TRANS' and click the three dots that appear, then click upload. Add all of your spectra CSV to this directory. Now hover over 'YOUR_SPECTRA' and click upload again. Add your file called 'ChemThick.CSV'. Double check that the names of your spectra (everything before the .CSV) match the names in the Sample column of 'ChemThick.csv'. \n",
    "\n",
    "Once you upload these files, you're ready to go! "
   ]
  },
  {
   "cell_type": "code",
   "execution_count": null,
   "metadata": {},
   "outputs": [],
   "source": [
    "\n",
    "# Get working paths \n",
    "path_input = os.getcwd() + '/'\n",
    "path_input\n",
    "\n",
    "# Change paths to direct to folder with transmission FTIR spectra \n",
    "TRANS_PATHS = path_input + 'TRANS/'\n",
    "TRANS_FILES = sorted(glob.glob(TRANS_PATHS + \"*\"))\n",
    "\n",
    "# Put ChemThick file in Inputs. Direct to what your ChemThick file is called. \n",
    "CHEMTHICK_PATH = path_input + 'ChemThick.csv'\n",
    "\n",
    "# Change to be what you want the prefix of your output files to be. \n",
    "OUTPUT_PATH = 'RESULTS'\n",
    "\n",
    "\n",
    "MICOMP, THICKNESS = pig.Load_ChemistryThickness(CHEMTHICK_PATH)\n",
    "\n",
    "DFS_FILES, DFS_DICT = pig.Load_SampleCSV(TRANS_FILES, wn_high = 5500, wn_low = 1000)\n",
    "DF_OUTPUT, FAILURES = pig.Run_All_Spectra(DFS_DICT, OUTPUT_PATH)\n",
    "DF_OUTPUT.to_csv('DF.csv')\n",
    "\n",
    "T_ROOM = 25 # C\n",
    "P_ROOM = 1 # Bar\n",
    "\n",
    "N = 500000\n",
    "DENSITY_EPSILON, MEGA_SPREADSHEET = pig.Concentration_Output(DF_OUTPUT, N, THICKNESS, MICOMP, T_ROOM, P_ROOM)\n",
    "MEGA_SPREADSHEET.to_csv('H2OCO2.csv')\n",
    "DENSITY_EPSILON.to_csv('DensityEpsilon.csv')\n",
    "MEGA_SPREADSHEET\n"
   ]
  },
  {
   "attachments": {},
   "cell_type": "markdown",
   "metadata": {},
   "source": [
    "# Load sample spectra\n",
    "\n",
    "This implementation in Google Colab also allows for benchmarking against some melt inclusions from Volcán de Fuego and back-arc basin glasses. You can see these in the directory called 'COLAB_BINDER'. The code required for processing these samples is as follows: "
   ]
  },
  {
   "cell_type": "code",
   "execution_count": null,
   "metadata": {},
   "outputs": [],
   "source": [
    "\n",
    "# Get working paths \n",
    "path_input = os.getcwd() + '/COLAB_BINDER/'\n",
    "path_input\n",
    "\n",
    "# Change paths to direct to folder with transmission FTIR spectra \n",
    "TRANS_PATHS = path_input + 'TRANSMISSION/'\n",
    "BM_TRANS_FILES = sorted(glob.glob(TRANS_PATHS + \"*\"))\n",
    "\n",
    "# Put ChemThick file in Inputs. Direct to what your ChemThick file is called. \n",
    "CHEMTHICK_PATH = path_input + 'Colab_Binder_ChemThick.csv'\n",
    "\n",
    "# Change to be what you want the prefix of your output files to be. \n",
    "BM_OUTPUT_PATH = 'BENCHMARK_RESULTS'\n",
    "\n",
    "\n",
    "BM_MICOMP, BM_THICKNESS = pig.Load_ChemistryThickness(CHEMTHICK_PATH)\n",
    "\n",
    "BM_DFS_FILES, BM_DFS_DICT = pig.Load_SampleCSV(BM_TRANS_FILES, wn_high = 5500, wn_low = 1000)\n",
    "BM_DF_OUTPUT, FAILURES = pig.Run_All_Spectra(BM_DFS_DICT, BM_OUTPUT_PATH)\n",
    "BM_DF_OUTPUT.to_csv('BENCHMARK_DF.csv')\n",
    "\n",
    "T_ROOM = 25 # C\n",
    "P_ROOM = 1 # Bar\n",
    "\n",
    "N = 500000\n",
    "BM_DENSITY_EPSILON, BM_MEGA_SPREADSHEET = pig.Concentration_Output(BM_DF_OUTPUT, N, THICKNESS, MICOMP, T_ROOM, P_ROOM)\n",
    "BM_MEGA_SPREADSHEET.to_csv('BENCHMARK_H2OCO2.csv')\n",
    "BM_DENSITY_EPSILON.to_csv('BENCHMARK_DensityEpsilon.csv')\n",
    "BM_MEGA_SPREADSHEET\n"
   ]
  },
  {
   "attachments": {},
   "cell_type": "markdown",
   "metadata": {},
   "source": [
    "# Thickness Calculation Examples"
   ]
  },
  {
   "cell_type": "code",
   "execution_count": null,
   "metadata": {},
   "outputs": [],
   "source": [
    "\n",
    "# Get working paths \n",
    "path_input = os.getcwd() + '/COLAB_BINDER/'\n",
    "path_input\n",
    "\n",
    "# Change paths to direct to folder with reflectance FTIR spectra\n",
    "REF_PATH_OL = path_input + 'REF/OL/'\n",
    "REF_OL_FILES = sorted(glob.glob(REF_PATH_OL + \"*\"))\n",
    "\n",
    "REF_OL_DFS_FILES, REF_OL_DFS_DICT = pig.Load_SampleCSV(REF_OL_FILES, wn_high = 2700, wn_low = 2100)\n",
    "\n",
    "# Use DHZ parameterization of olivine reflectance index. \n",
    "n_ol = pig.Reflectance_Index(0.72)\n",
    "\n",
    "REF_FUEGO = pig.Thickness_Processing(REF_OL_DFS_DICT, n = n_ol, wn_high = 2700, wn_low = 2100, remove_baseline = True, plotting = False, phaseol = True)\n",
    "\n",
    "REF_FUEGO\n"
   ]
  },
  {
   "cell_type": "code",
   "execution_count": null,
   "metadata": {},
   "outputs": [],
   "source": [
    "\n",
    "REF_PATH_GL = path_input + 'REF/GL/'\n",
    "REF_GL_FILES = sorted(glob.glob(REF_PATH_GL + \"*\"))\n",
    "\n",
    "REF_GL_DFS_FILES, REF_GL_DFS_DICT = pig.Load_SampleCSV(REF_GL_FILES, wn_high = 2850, wn_low = 1700)\n",
    "\n",
    "# n=1.546 in the range of 2000-2700 cm^-1 following Nichols and Wysoczanski, 2007 for basaltic glass\n",
    "n_gl = 1.546\n",
    "\n",
    "REF_GLASS = pig.Thickness_Processing(REF_GL_DFS_DICT, n = n_gl, wn_high = 2850, wn_low = 1700, remove_baseline = True, plotting = False, phaseol = False)\n",
    "\n",
    "REF_GLASS\n"
   ]
  }
 ],
 "metadata": {
  "language_info": {
   "name": "python"
  },
  "orig_nbformat": 4
 },
 "nbformat": 4,
 "nbformat_minor": 2
}
